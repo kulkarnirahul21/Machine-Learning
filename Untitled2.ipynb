{
 "cells": [
  {
   "cell_type": "code",
   "execution_count": 1,
   "metadata": {
    "collapsed": false
   },
   "outputs": [
    {
     "name": "stdout",
     "output_type": "stream",
     "text": [
      "Old path is :  C:\\Users\\Rahul\\Documents\n",
      "New path is :  C:\\Project\\proj3\n"
     ]
    }
   ],
   "source": [
    "import os\n",
    "print(\"Old path is : \",os.getcwd())\n",
    "import numpy as np\n",
    "os.chdir(\"C:/Project/proj3\")\n",
    "print(\"New path is : \",os.getcwd())\n",
    "# import pandas library\n",
    "import pandas as pd\n",
    "# Importing Scikit learn libraries\n",
    "from sklearn.cross_validation import train_test_split\n",
    "from sklearn.preprocessing import LabelEncoder\n",
    "le = LabelEncoder()\n",
    "# Decision tree library\n",
    "from sklearn.tree import DecisionTreeClassifier\n",
    "# Random forest library\n",
    "# in sklear.ensemble module you have BaggingClassifier, RandomForestClassifier functions, GradientBoostingClassifier\n",
    "# RandomForestRegressor, GradientBoostingRegressor for regression\n",
    "from sklearn.ensemble import RandomForestClassifier\n",
    "# Support Vector Machines\n",
    "from sklearn import svm"
   ]
  },
  {
   "cell_type": "code",
   "execution_count": 2,
   "metadata": {
    "collapsed": false
   },
   "outputs": [],
   "source": [
    "data = pd.read_csv(\"final1.csv\")\n",
    "data.columns\n",
    "data.combinations = data.fan.astype(str).str.cat(data.bulb.astype(str).str.cat(data.led.astype(str).str.cat(data.dyson.astype(str),sep=','),sep = ','),sep = ',')\n",
    "X = data[[\"current\",\"powerfactor\",\"activepower\",\"reactivepower\",\"apparentpower\",\"activefundamentalpower\",\"activeharmonicpower\",\"meanphaseangle\"]]\n",
    "\n",
    "# To convert all the categorical values to numeric\n",
    "for i in X.columns:\n",
    "    if X[i].dtype == 'object':\n",
    "        le.fit(train[i])\n",
    "        X[i] = le.transform(X[i])\n",
    "\n",
    "y = data.combinations\n",
    "X_train, X_test, y_train, y_test = train_test_split(X,y,test_size=0.2, random_state=0)"
   ]
  },
  {
   "cell_type": "markdown",
   "metadata": {},
   "source": [
    "Decision Trees"
   ]
  },
  {
   "cell_type": "code",
   "execution_count": 146,
   "metadata": {
    "collapsed": false,
    "scrolled": true
   },
   "outputs": [
    {
     "name": "stdout",
     "output_type": "stream",
     "text": [
      "DecisionTreeClassifier(class_weight=None, criterion='entropy', max_depth=10,\n",
      "            max_features=None, max_leaf_nodes=None, min_samples_leaf=1,\n",
      "            min_samples_split=20, min_weight_fraction_leaf=0.0,\n",
      "            presort=False, random_state=99, splitter='best')\n",
      "----------------------------------------------\n",
      "                        Importance\n",
      "current                   0.139350\n",
      "powerfactor               0.012672\n",
      "activepower               0.012218\n",
      "reactivepower             0.162338\n",
      "apparentpower             0.288767\n",
      "activefundamentalpower    0.113824\n",
      "activeharmonicpower       0.035710\n",
      "meanphaseangle            0.235120\n"
     ]
    }
   ],
   "source": [
    "# max_depth can be controlled for pruning\n",
    "model = DecisionTreeClassifier(criterion = 'entropy',min_samples_split=20, random_state=99, max_depth=10)\n",
    "model = model.fit(X_train,y_train)\n",
    "print(model)\n",
    "print(\"----------------------------------------------\")\n",
    "print(pd.DataFrame(model.feature_importances_,columns = ['Importance'],index = X_train.columns))\n",
    "trainprediction= model.predict(X_train)\n",
    "testprediction  = model.predict(X_test)"
   ]
  },
  {
   "cell_type": "markdown",
   "metadata": {
    "collapsed": true
   },
   "source": [
    "Random Forest"
   ]
  },
  {
   "cell_type": "code",
   "execution_count": 148,
   "metadata": {
    "collapsed": false
   },
   "outputs": [
    {
     "name": "stdout",
     "output_type": "stream",
     "text": [
      "RandomForestClassifier(bootstrap=True, class_weight=None, criterion='gini',\n",
      "            max_depth=None, max_features='auto', max_leaf_nodes=None,\n",
      "            min_samples_leaf=1, min_samples_split=2,\n",
      "            min_weight_fraction_leaf=0.0, n_estimators=1000, n_jobs=1,\n",
      "            oob_score=False, random_state=None, verbose=0,\n",
      "            warm_start=False)\n",
      "----------------------------------------------\n",
      "                        Importance\n",
      "current                   0.127818\n",
      "powerfactor               0.127914\n",
      "activepower               0.120994\n",
      "reactivepower             0.156919\n",
      "apparentpower             0.123910\n",
      "activefundamentalpower    0.121383\n",
      "activeharmonicpower       0.076310\n",
      "meanphaseangle            0.144752\n"
     ]
    }
   ],
   "source": [
    "# max_features: max num of features Random Forest is allowed to try in individual tree\n",
    "# n_estimators: Max num of trees to build, Higher num of trees give you better performance but makes slower\n",
    "# n_jobs: parameter tells the engine how many processors is it allowed to use, -1 no restriction\n",
    "model= RandomForestClassifier(n_estimators=1000)\n",
    "model = model.fit(X_train,y_train)\n",
    "print(model)\n",
    "print(\"----------------------------------------------\")\n",
    "print(pd.DataFrame(model.feature_importances_,columns = ['Importance'],index = X_train.columns))\n",
    "trainprediction= model.predict(X_train)\n",
    "testprediction  = model.predict(X_test)"
   ]
  },
  {
   "cell_type": "code",
   "execution_count": 3,
   "metadata": {
    "collapsed": false
   },
   "outputs": [
    {
     "name": "stderr",
     "output_type": "stream",
     "text": [
      "C:\\Users\\Rahul\\Anaconda3\\lib\\site-packages\\sklearn\\svm\\base.py:85: DeprecationWarning: gamma=0.0 has been deprecated in favor of gamma='auto' as of 0.17. Backward compatibility for gamma=0.0 will be removed in 0.18\n",
      "  DeprecationWarning)\n"
     ]
    },
    {
     "name": "stdout",
     "output_type": "stream",
     "text": [
      "SVC(C=5, cache_size=200, class_weight=None, coef0=0.0,\n",
      "  decision_function_shape=None, degree=3, gamma=0, kernel='poly',\n",
      "  max_iter=-1, probability=False, random_state=None, shrinking=True,\n",
      "  tol=0.001, verbose=False)\n"
     ]
    }
   ],
   "source": [
    "# most important parameters are kernel, gama and C\n",
    "# in kernal = “linear”, “rbf”,”poly”\n",
    "model = svm.SVC(kernel='poly', C=5,gamma=0).fit(X_train, y_train)\n",
    "print(model)\n",
    "trainprediction= model.predict(X_train)\n",
    "testprediction  = model.predict(X_test)"
   ]
  },
  {
   "cell_type": "code",
   "execution_count": 4,
   "metadata": {
    "collapsed": false
   },
   "outputs": [
    {
     "name": "stdout",
     "output_type": "stream",
     "text": [
      "0\n"
     ]
    }
   ],
   "source": [
    "a=0\n",
    "for i in trainprediction == y_train:\n",
    "    if i.astype(str) == 'False':\n",
    "        a +=1\n",
    "print(a)"
   ]
  },
  {
   "cell_type": "code",
   "execution_count": null,
   "metadata": {
    "collapsed": false
   },
   "outputs": [],
   "source": []
  },
  {
   "cell_type": "code",
   "execution_count": null,
   "metadata": {
    "collapsed": true
   },
   "outputs": [],
   "source": []
  }
 ],
 "metadata": {
  "anaconda-cloud": {},
  "kernelspec": {
   "display_name": "Python [Root]",
   "language": "python",
   "name": "Python [Root]"
  },
  "language_info": {
   "codemirror_mode": {
    "name": "ipython",
    "version": 3
   },
   "file_extension": ".py",
   "mimetype": "text/x-python",
   "name": "python",
   "nbconvert_exporter": "python",
   "pygments_lexer": "ipython3",
   "version": "3.5.2"
  }
 },
 "nbformat": 4,
 "nbformat_minor": 0
}
