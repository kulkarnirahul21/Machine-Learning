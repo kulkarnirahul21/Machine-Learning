{
 "cells": [
  {
   "cell_type": "code",
   "execution_count": 58,
   "metadata": {
    "collapsed": false
   },
   "outputs": [
    {
     "data": {
      "text/html": [
       "<dl class=dl-horizontal>\n",
       "\t<dt>year</dt>\n",
       "\t\t<dd>1</dd>\n",
       "\t<dt>month</dt>\n",
       "\t\t<dd>12</dd>\n",
       "\t<dt>day</dt>\n",
       "\t\t<dd>31</dd>\n",
       "\t<dt>dep_time</dt>\n",
       "\t\t<dd>1318</dd>\n",
       "\t<dt>sched_dep_time</dt>\n",
       "\t\t<dd>1021</dd>\n",
       "\t<dt>dep_delay</dt>\n",
       "\t\t<dd>527</dd>\n",
       "</dl>\n"
      ],
      "text/latex": [
       "\\begin{description*}\n",
       "\\item[year] 1\n",
       "\\item[month] 12\n",
       "\\item[day] 31\n",
       "\\item[dep\\textbackslash{}\\_time] 1318\n",
       "\\item[sched\\textbackslash{}\\_dep\\textbackslash{}\\_time] 1021\n",
       "\\item[dep\\textbackslash{}\\_delay] 527\n",
       "\\end{description*}\n"
      ],
      "text/markdown": [
       "year\n",
       ":   1month\n",
       ":   12day\n",
       ":   31dep_time\n",
       ":   1318sched_dep_time\n",
       ":   1021dep_delay\n",
       ":   527\n",
       "\n"
      ],
      "text/plain": [
       "          year          month            day       dep_time sched_dep_time \n",
       "             1             12             31           1318           1021 \n",
       "     dep_delay \n",
       "           527 "
      ]
     },
     "metadata": {},
     "output_type": "display_data"
    }
   ],
   "source": [
    "# To see unique values in each column\n",
    "data <- flights\n",
    "head(sapply(X = data, FUN = function(X) length(unique(na.omit(X)))))\n",
    "# in caret package\n",
    "nzv <- nearZeroVar(training, saveMetrics = T)\n",
    "# if suppose a columns gender has 95% males and 5 females -- then it will output TRUE - TRUE"
   ]
  },
  {
   "cell_type": "code",
   "execution_count": 45,
   "metadata": {
    "collapsed": false
   },
   "outputs": [
    {
     "data": {
      "text/html": [
       "<dl>\n",
       "\t<dt>$year</dt>\n",
       "\t\t<dd>'integer'</dd>\n",
       "\t<dt>$month</dt>\n",
       "\t\t<dd>'integer'</dd>\n",
       "\t<dt>$day</dt>\n",
       "\t\t<dd>'integer'</dd>\n",
       "\t<dt>$dep_time</dt>\n",
       "\t\t<dd>'integer'</dd>\n",
       "\t<dt>$sched_dep_time</dt>\n",
       "\t\t<dd>'integer'</dd>\n",
       "\t<dt>$dep_delay</dt>\n",
       "\t\t<dd>'numeric'</dd>\n",
       "</dl>\n"
      ],
      "text/latex": [
       "\\begin{description}\n",
       "\\item[\\$year] 'integer'\n",
       "\\item[\\$month] 'integer'\n",
       "\\item[\\$day] 'integer'\n",
       "\\item[\\$dep\\_time] 'integer'\n",
       "\\item[\\$sched\\_dep\\_time] 'integer'\n",
       "\\item[\\$dep\\_delay] 'numeric'\n",
       "\\end{description}\n"
      ],
      "text/markdown": [
       "$year\n",
       ":   'integer'\n",
       "$month\n",
       ":   'integer'\n",
       "$day\n",
       ":   'integer'\n",
       "$dep_time\n",
       ":   'integer'\n",
       "$sched_dep_time\n",
       ":   'integer'\n",
       "$dep_delay\n",
       ":   'numeric'\n",
       "\n",
       "\n"
      ],
      "text/plain": [
       "$year\n",
       "[1] \"integer\"\n",
       "\n",
       "$month\n",
       "[1] \"integer\"\n",
       "\n",
       "$day\n",
       "[1] \"integer\"\n",
       "\n",
       "$dep_time\n",
       "[1] \"integer\"\n",
       "\n",
       "$sched_dep_time\n",
       "[1] \"integer\"\n",
       "\n",
       "$dep_delay\n",
       "[1] \"numeric\"\n"
      ]
     },
     "metadata": {},
     "output_type": "display_data"
    }
   ],
   "source": [
    "# To find the class of each column\n",
    "head(sapply(X = data, FUN = function(X) class(X)))"
   ]
  },
  {
   "cell_type": "code",
   "execution_count": 49,
   "metadata": {
    "collapsed": false
   },
   "outputs": [],
   "source": [
    "# Bin the datasets\n",
    "x <- c(1:100)\n",
    "y <- cut(x,c(1,25,50,75,100),labels = c(\"low\",\"medium\",\"high\",\"vhig\"))\n",
    "# Beter way\n",
    "require(Hmisc)\n",
    "cutWage <- cut2(train$wage, g =4)"
   ]
  },
  {
   "cell_type": "code",
   "execution_count": null,
   "metadata": {
    "collapsed": false
   },
   "outputs": [],
   "source": [
    "m1 <- apply(data,1,sum) # Sum of rows\n",
    "m2 <- apply(data,2,sum) # Sum of columns\n",
    "sapply(df, function(cl) list(means=mean(cl,na.rm=TRUE), sds=sd(cl,na.rm=TRUE)))"
   ]
  },
  {
   "cell_type": "code",
   "execution_count": 3,
   "metadata": {
    "collapsed": false
   },
   "outputs": [
    {
     "data": {
      "text/html": [
       "<ol class=list-inline>\n",
       "\t<li>'tbl_df'</li>\n",
       "\t<li>'tbl'</li>\n",
       "\t<li>'data.frame'</li>\n",
       "</ol>\n"
      ],
      "text/latex": [
       "\\begin{enumerate*}\n",
       "\\item 'tbl\\_df'\n",
       "\\item 'tbl'\n",
       "\\item 'data.frame'\n",
       "\\end{enumerate*}\n"
      ],
      "text/markdown": [
       "1. 'tbl_df'\n",
       "2. 'tbl'\n",
       "3. 'data.frame'\n",
       "\n",
       "\n"
      ],
      "text/plain": [
       "[1] \"tbl_df\"     \"tbl\"        \"data.frame\""
      ]
     },
     "metadata": {},
     "output_type": "display_data"
    }
   ],
   "source": [
    "require(dplyr)\n",
    "require(nycflights13)\n",
    "class(flights)"
   ]
  },
  {
   "cell_type": "code",
   "execution_count": 4,
   "metadata": {
    "collapsed": false
   },
   "outputs": [
    {
     "data": {
      "text/html": [
       "<ol class=list-inline>\n",
       "\t<li>'year'</li>\n",
       "\t<li>'month'</li>\n",
       "\t<li>'day'</li>\n",
       "\t<li>'dep_time'</li>\n",
       "\t<li>'sched_dep_time'</li>\n",
       "\t<li>'dep_delay'</li>\n",
       "\t<li>'arr_time'</li>\n",
       "\t<li>'sched_arr_time'</li>\n",
       "\t<li>'arr_delay'</li>\n",
       "\t<li>'carrier'</li>\n",
       "\t<li>'flight'</li>\n",
       "\t<li>'tailnum'</li>\n",
       "\t<li>'origin'</li>\n",
       "\t<li>'dest'</li>\n",
       "\t<li>'air_time'</li>\n",
       "\t<li>'distance'</li>\n",
       "\t<li>'hour'</li>\n",
       "\t<li>'minute'</li>\n",
       "\t<li>'time_hour'</li>\n",
       "</ol>\n"
      ],
      "text/latex": [
       "\\begin{enumerate*}\n",
       "\\item 'year'\n",
       "\\item 'month'\n",
       "\\item 'day'\n",
       "\\item 'dep\\_time'\n",
       "\\item 'sched\\_dep\\_time'\n",
       "\\item 'dep\\_delay'\n",
       "\\item 'arr\\_time'\n",
       "\\item 'sched\\_arr\\_time'\n",
       "\\item 'arr\\_delay'\n",
       "\\item 'carrier'\n",
       "\\item 'flight'\n",
       "\\item 'tailnum'\n",
       "\\item 'origin'\n",
       "\\item 'dest'\n",
       "\\item 'air\\_time'\n",
       "\\item 'distance'\n",
       "\\item 'hour'\n",
       "\\item 'minute'\n",
       "\\item 'time\\_hour'\n",
       "\\end{enumerate*}\n"
      ],
      "text/markdown": [
       "1. 'year'\n",
       "2. 'month'\n",
       "3. 'day'\n",
       "4. 'dep_time'\n",
       "5. 'sched_dep_time'\n",
       "6. 'dep_delay'\n",
       "7. 'arr_time'\n",
       "8. 'sched_arr_time'\n",
       "9. 'arr_delay'\n",
       "10. 'carrier'\n",
       "11. 'flight'\n",
       "12. 'tailnum'\n",
       "13. 'origin'\n",
       "14. 'dest'\n",
       "15. 'air_time'\n",
       "16. 'distance'\n",
       "17. 'hour'\n",
       "18. 'minute'\n",
       "19. 'time_hour'\n",
       "\n",
       "\n"
      ],
      "text/plain": [
       " [1] \"year\"           \"month\"          \"day\"            \"dep_time\"      \n",
       " [5] \"sched_dep_time\" \"dep_delay\"      \"arr_time\"       \"sched_arr_time\"\n",
       " [9] \"arr_delay\"      \"carrier\"        \"flight\"         \"tailnum\"       \n",
       "[13] \"origin\"         \"dest\"           \"air_time\"       \"distance\"      \n",
       "[17] \"hour\"           \"minute\"         \"time_hour\"     "
      ]
     },
     "metadata": {},
     "output_type": "display_data"
    }
   ],
   "source": [
    "names(flights)"
   ]
  },
  {
   "cell_type": "code",
   "execution_count": 30,
   "metadata": {
    "collapsed": false
   },
   "outputs": [
    {
     "data": {
      "text/html": [
       "<table>\n",
       "<thead><tr><th scope=col>carrier</th><th scope=col>flight</th><th scope=col>tailnum</th></tr></thead>\n",
       "<tbody>\n",
       "\t<tr><td>UA    </td><td>1545  </td><td>N14228</td></tr>\n",
       "\t<tr><td>UA    </td><td>1714  </td><td>N24211</td></tr>\n",
       "</tbody>\n",
       "</table>\n"
      ],
      "text/latex": [
       "\\begin{tabular}{r|lll}\n",
       " carrier & flight & tailnum\\\\\n",
       "\\hline\n",
       "\t UA     & 1545   & N14228\\\\\n",
       "\t UA     & 1714   & N24211\\\\\n",
       "\\end{tabular}\n"
      ],
      "text/markdown": [
       "\n",
       "carrier | flight | tailnum | \n",
       "|---|---|\n",
       "| UA     | 1545   | N14228 | \n",
       "| UA     | 1714   | N24211 | \n",
       "\n",
       "\n"
      ],
      "text/plain": [
       "  carrier flight tailnum\n",
       "1 UA      1545   N14228 \n",
       "2 UA      1714   N24211 "
      ]
     },
     "metadata": {},
     "output_type": "display_data"
    }
   ],
   "source": [
    "cols <- c(\"carrier\",\"flight\",\"tailnum\")\n",
    "head(flights %>% select(one_of(cols)),n=2)"
   ]
  },
  {
   "cell_type": "code",
   "execution_count": 31,
   "metadata": {
    "collapsed": false
   },
   "outputs": [
    {
     "data": {
      "text/html": [
       "<table>\n",
       "<thead><tr><th scope=col>year</th><th scope=col>month</th><th scope=col>day</th><th scope=col>dep_time</th><th scope=col>sched_dep_time</th><th scope=col>dep_delay</th><th scope=col>arr_time</th><th scope=col>sched_arr_time</th><th scope=col>arr_delay</th><th scope=col>carrier</th><th scope=col>flight</th><th scope=col>tailnum</th><th scope=col>origin</th><th scope=col>dest</th><th scope=col>air_time</th><th scope=col>distance</th><th scope=col>hour</th><th scope=col>minute</th><th scope=col>time_hour</th></tr></thead>\n",
       "<tbody>\n",
       "\t<tr><td>2013               </td><td>1                  </td><td>1                  </td><td>517                </td><td>515                </td><td>2                  </td><td>830                </td><td>819                </td><td>11                 </td><td>UA                 </td><td>1545               </td><td>N14228             </td><td>EWR                </td><td>IAH                </td><td>227                </td><td>1400               </td><td>5                  </td><td>15                 </td><td>2013-01-01 05:00:00</td></tr>\n",
       "\t<tr><td>2013               </td><td>1                  </td><td>1                  </td><td>533                </td><td>529                </td><td>4                  </td><td>850                </td><td>830                </td><td>20                 </td><td>UA                 </td><td>1714               </td><td>N24211             </td><td>LGA                </td><td>IAH                </td><td>227                </td><td>1416               </td><td>5                  </td><td>29                 </td><td>2013-01-01 05:00:00</td></tr>\n",
       "</tbody>\n",
       "</table>\n"
      ],
      "text/latex": [
       "\\begin{tabular}{r|lllllllllllllllllll}\n",
       " year & month & day & dep\\_time & sched\\_dep\\_time & dep\\_delay & arr\\_time & sched\\_arr\\_time & arr\\_delay & carrier & flight & tailnum & origin & dest & air\\_time & distance & hour & minute & time\\_hour\\\\\n",
       "\\hline\n",
       "\t 2013                & 1                   & 1                   & 517                 & 515                 & 2                   & 830                 & 819                 & 11                  & UA                  & 1545                & N14228              & EWR                 & IAH                 & 227                 & 1400                & 5                   & 15                  & 2013-01-01 05:00:00\\\\\n",
       "\t 2013                & 1                   & 1                   & 533                 & 529                 & 4                   & 850                 & 830                 & 20                  & UA                  & 1714                & N24211              & LGA                 & IAH                 & 227                 & 1416                & 5                   & 29                  & 2013-01-01 05:00:00\\\\\n",
       "\\end{tabular}\n"
      ],
      "text/markdown": [
       "\n",
       "year | month | day | dep_time | sched_dep_time | dep_delay | arr_time | sched_arr_time | arr_delay | carrier | flight | tailnum | origin | dest | air_time | distance | hour | minute | time_hour | \n",
       "|---|---|\n",
       "| 2013                | 1                   | 1                   | 517                 | 515                 | 2                   | 830                 | 819                 | 11                  | UA                  | 1545                | N14228              | EWR                 | IAH                 | 227                 | 1400                | 5                   | 15                  | 2013-01-01 05:00:00 | \n",
       "| 2013                | 1                   | 1                   | 533                 | 529                 | 4                   | 850                 | 830                 | 20                  | UA                  | 1714                | N24211              | LGA                 | IAH                 | 227                 | 1416                | 5                   | 29                  | 2013-01-01 05:00:00 | \n",
       "\n",
       "\n"
      ],
      "text/plain": [
       "  year month day dep_time sched_dep_time dep_delay arr_time sched_arr_time\n",
       "1 2013 1     1   517      515            2         830      819           \n",
       "2 2013 1     1   533      529            4         850      830           \n",
       "  arr_delay carrier flight tailnum origin dest air_time distance hour minute\n",
       "1 11        UA      1545   N14228  EWR    IAH  227      1400     5    15    \n",
       "2 20        UA      1714   N24211  LGA    IAH  227      1416     5    29    \n",
       "  time_hour          \n",
       "1 2013-01-01 05:00:00\n",
       "2 2013-01-01 05:00:00"
      ]
     },
     "metadata": {},
     "output_type": "display_data"
    }
   ],
   "source": [
    "# Keep the first 3 rows within each group\n",
    "# new verb slice()\n",
    "head(flights %>% group_by(month, day) %>% slice(1:3),n=2)"
   ]
  },
  {
   "cell_type": "code",
   "execution_count": 53,
   "metadata": {
    "collapsed": false
   },
   "outputs": [
    {
     "data": {
      "text/html": [
       "<table>\n",
       "<thead><tr><th scope=col>year</th><th scope=col>month</th><th scope=col>day</th><th scope=col>dep_time</th><th scope=col>sched_dep_time</th><th scope=col>dep_delay</th><th scope=col>arr_time</th><th scope=col>sched_arr_time</th><th scope=col>arr_delay</th><th scope=col>carrier</th><th scope=col>flight</th><th scope=col>tailnum</th><th scope=col>origin</th><th scope=col>dest</th><th scope=col>air_time</th><th scope=col>distance</th><th scope=col>hour</th><th scope=col>minute</th><th scope=col>time_hour</th></tr></thead>\n",
       "<tbody>\n",
       "\t<tr><td>2013               </td><td>1                  </td><td>1                  </td><td>2107               </td><td>2040               </td><td>27                 </td><td>2354               </td><td>2359               </td><td>-5                 </td><td>B6                 </td><td> 677               </td><td>N779JB             </td><td>JFK                </td><td>LAX                </td><td>323                </td><td>2475               </td><td>20                 </td><td>40                 </td><td>2013-01-01 20:00:00</td></tr>\n",
       "\t<tr><td>2013               </td><td>1                  </td><td>1                  </td><td>1610               </td><td>1615               </td><td>-5                 </td><td>1827               </td><td>1830               </td><td>-3                 </td><td>DL                 </td><td>1619               </td><td>N360NB             </td><td>LGA                </td><td>MSP                </td><td>168                </td><td>1020               </td><td>16                 </td><td>15                 </td><td>2013-01-01 16:00:00</td></tr>\n",
       "</tbody>\n",
       "</table>\n"
      ],
      "text/latex": [
       "\\begin{tabular}{r|lllllllllllllllllll}\n",
       " year & month & day & dep\\_time & sched\\_dep\\_time & dep\\_delay & arr\\_time & sched\\_arr\\_time & arr\\_delay & carrier & flight & tailnum & origin & dest & air\\_time & distance & hour & minute & time\\_hour\\\\\n",
       "\\hline\n",
       "\t 2013                & 1                   & 1                   & 2107                & 2040                & 27                  & 2354                & 2359                & -5                  & B6                  &  677                & N779JB              & JFK                 & LAX                 & 323                 & 2475                & 20                  & 40                  & 2013-01-01 20:00:00\\\\\n",
       "\t 2013                & 1                   & 1                   & 1610                & 1615                & -5                  & 1827                & 1830                & -3                  & DL                  & 1619                & N360NB              & LGA                 & MSP                 & 168                 & 1020                & 16                  & 15                  & 2013-01-01 16:00:00\\\\\n",
       "\\end{tabular}\n"
      ],
      "text/markdown": [
       "\n",
       "year | month | day | dep_time | sched_dep_time | dep_delay | arr_time | sched_arr_time | arr_delay | carrier | flight | tailnum | origin | dest | air_time | distance | hour | minute | time_hour | \n",
       "|---|---|\n",
       "| 2013                | 1                   | 1                   | 2107                | 2040                | 27                  | 2354                | 2359                | -5                  | B6                  |  677                | N779JB              | JFK                 | LAX                 | 323                 | 2475                | 20                  | 40                  | 2013-01-01 20:00:00 | \n",
       "| 2013                | 1                   | 1                   | 1610                | 1615                | -5                  | 1827                | 1830                | -3                  | DL                  | 1619                | N360NB              | LGA                 | MSP                 | 168                 | 1020                | 16                  | 15                  | 2013-01-01 16:00:00 | \n",
       "\n",
       "\n"
      ],
      "text/plain": [
       "  year month day dep_time sched_dep_time dep_delay arr_time sched_arr_time\n",
       "1 2013 1     1   2107     2040           27        2354     2359          \n",
       "2 2013 1     1   1610     1615           -5        1827     1830          \n",
       "  arr_delay carrier flight tailnum origin dest air_time distance hour minute\n",
       "1 -5        B6       677   N779JB  JFK    LAX  323      2475     20   40    \n",
       "2 -3        DL      1619   N360NB  LGA    MSP  168      1020     16   15    \n",
       "  time_hour          \n",
       "1 2013-01-01 20:00:00\n",
       "2 2013-01-01 16:00:00"
      ]
     },
     "metadata": {},
     "output_type": "display_data"
    },
    {
     "data": {
      "text/html": [
       "<table>\n",
       "<thead><tr><th scope=col>year</th><th scope=col>month</th><th scope=col>day</th><th scope=col>dep_time</th><th scope=col>sched_dep_time</th><th scope=col>dep_delay</th><th scope=col>arr_time</th><th scope=col>sched_arr_time</th><th scope=col>arr_delay</th><th scope=col>carrier</th><th scope=col>flight</th><th scope=col>tailnum</th><th scope=col>origin</th><th scope=col>dest</th><th scope=col>air_time</th><th scope=col>distance</th><th scope=col>hour</th><th scope=col>minute</th><th scope=col>time_hour</th></tr></thead>\n",
       "<tbody>\n",
       "\t<tr><td>2013               </td><td>1                  </td><td>1                  </td><td> 848               </td><td>1835               </td><td>853                </td><td>1001               </td><td>1950               </td><td>851                </td><td>MQ                 </td><td>3944               </td><td>N942MQ             </td><td>JFK                </td><td>BWI                </td><td> 41                </td><td> 184               </td><td>18                 </td><td>35                 </td><td>2013-01-01 18:00:00</td></tr>\n",
       "\t<tr><td>2013               </td><td>1                  </td><td>1                  </td><td>1815               </td><td>1325               </td><td>290                </td><td>2120               </td><td>1542               </td><td>338                </td><td>EV                 </td><td>4417               </td><td>N17185             </td><td>EWR                </td><td>OMA                </td><td>213                </td><td>1134               </td><td>13                 </td><td>25                 </td><td>2013-01-01 13:00:00</td></tr>\n",
       "</tbody>\n",
       "</table>\n"
      ],
      "text/latex": [
       "\\begin{tabular}{r|lllllllllllllllllll}\n",
       " year & month & day & dep\\_time & sched\\_dep\\_time & dep\\_delay & arr\\_time & sched\\_arr\\_time & arr\\_delay & carrier & flight & tailnum & origin & dest & air\\_time & distance & hour & minute & time\\_hour\\\\\n",
       "\\hline\n",
       "\t 2013                & 1                   & 1                   &  848                & 1835                & 853                 & 1001                & 1950                & 851                 & MQ                  & 3944                & N942MQ              & JFK                 & BWI                 &  41                 &  184                & 18                  & 35                  & 2013-01-01 18:00:00\\\\\n",
       "\t 2013                & 1                   & 1                   & 1815                & 1325                & 290                 & 2120                & 1542                & 338                 & EV                  & 4417                & N17185              & EWR                 & OMA                 & 213                 & 1134                & 13                  & 25                  & 2013-01-01 13:00:00\\\\\n",
       "\\end{tabular}\n"
      ],
      "text/markdown": [
       "\n",
       "year | month | day | dep_time | sched_dep_time | dep_delay | arr_time | sched_arr_time | arr_delay | carrier | flight | tailnum | origin | dest | air_time | distance | hour | minute | time_hour | \n",
       "|---|---|\n",
       "| 2013                | 1                   | 1                   |  848                | 1835                | 853                 | 1001                | 1950                | 851                 | MQ                  | 3944                | N942MQ              | JFK                 | BWI                 |  41                 |  184                | 18                  | 35                  | 2013-01-01 18:00:00 | \n",
       "| 2013                | 1                   | 1                   | 1815                | 1325                | 290                 | 2120                | 1542                | 338                 | EV                  | 4417                | N17185              | EWR                 | OMA                 | 213                 | 1134                | 13                  | 25                  | 2013-01-01 13:00:00 | \n",
       "\n",
       "\n"
      ],
      "text/plain": [
       "  year month day dep_time sched_dep_time dep_delay arr_time sched_arr_time\n",
       "1 2013 1     1    848     1835           853       1001     1950          \n",
       "2 2013 1     1   1815     1325           290       2120     1542          \n",
       "  arr_delay carrier flight tailnum origin dest air_time distance hour minute\n",
       "1 851       MQ      3944   N942MQ  JFK    BWI   41       184     18   35    \n",
       "2 338       EV      4417   N17185  EWR    OMA  213      1134     13   25    \n",
       "  time_hour          \n",
       "1 2013-01-01 18:00:00\n",
       "2 2013-01-01 13:00:00"
      ]
     },
     "metadata": {},
     "output_type": "display_data"
    }
   ],
   "source": [
    "# Window functions\n",
    "# Sample 3 rows from each group\n",
    "head(flights %>% group_by(month,day) %>% sample_n(3),2)\n",
    "# Choose the 3 row with top/high departure delaty in each group\n",
    "head(flights %>% group_by(month,day) %>% top_n(3, dep_delay) ,2)"
   ]
  },
  {
   "cell_type": "code",
   "execution_count": 5,
   "metadata": {
    "collapsed": false
   },
   "outputs": [
    {
     "data": {
      "text/html": [
       "<table>\n",
       "<thead><tr><th scope=col>origin</th><th scope=col>dest</th></tr></thead>\n",
       "<tbody>\n",
       "\t<tr><td>EWR</td><td>IAH</td></tr>\n",
       "\t<tr><td>LGA</td><td>IAH</td></tr>\n",
       "\t<tr><td>JFK</td><td>MIA</td></tr>\n",
       "\t<tr><td>JFK</td><td>BQN</td></tr>\n",
       "\t<tr><td>LGA</td><td>ATL</td></tr>\n",
       "\t<tr><td>EWR</td><td>ORD</td></tr>\n",
       "</tbody>\n",
       "</table>\n"
      ],
      "text/latex": [
       "\\begin{tabular}{r|ll}\n",
       " origin & dest\\\\\n",
       "\\hline\n",
       "\t EWR & IAH\\\\\n",
       "\t LGA & IAH\\\\\n",
       "\t JFK & MIA\\\\\n",
       "\t JFK & BQN\\\\\n",
       "\t LGA & ATL\\\\\n",
       "\t EWR & ORD\\\\\n",
       "\\end{tabular}\n"
      ],
      "text/markdown": [
       "\n",
       "origin | dest | \n",
       "|---|---|---|---|---|---|\n",
       "| EWR | IAH | \n",
       "| LGA | IAH | \n",
       "| JFK | MIA | \n",
       "| JFK | BQN | \n",
       "| LGA | ATL | \n",
       "| EWR | ORD | \n",
       "\n",
       "\n"
      ],
      "text/plain": [
       "  origin dest\n",
       "1 EWR    IAH \n",
       "2 LGA    IAH \n",
       "3 JFK    MIA \n",
       "4 JFK    BQN \n",
       "5 LGA    ATL \n",
       "6 EWR    ORD "
      ]
     },
     "metadata": {},
     "output_type": "display_data"
    }
   ],
   "source": [
    "head(flights %>% select(origin,dest) %>% distinct)"
   ]
  },
  {
   "cell_type": "code",
   "execution_count": 8,
   "metadata": {
    "collapsed": false
   },
   "outputs": [
    {
     "data": {
      "text/html": [
       "<table>\n",
       "<thead><tr><th scope=col>month</th><th scope=col>cnt</th></tr></thead>\n",
       "<tbody>\n",
       "\t<tr><td> 7   </td><td>29425</td></tr>\n",
       "\t<tr><td> 8   </td><td>29327</td></tr>\n",
       "\t<tr><td>10   </td><td>28889</td></tr>\n",
       "\t<tr><td> 3   </td><td>28834</td></tr>\n",
       "\t<tr><td> 5   </td><td>28796</td></tr>\n",
       "\t<tr><td> 4   </td><td>28330</td></tr>\n",
       "\t<tr><td> 6   </td><td>28243</td></tr>\n",
       "\t<tr><td>12   </td><td>28135</td></tr>\n",
       "\t<tr><td> 9   </td><td>27574</td></tr>\n",
       "\t<tr><td>11   </td><td>27268</td></tr>\n",
       "\t<tr><td> 1   </td><td>27004</td></tr>\n",
       "\t<tr><td> 2   </td><td>24951</td></tr>\n",
       "</tbody>\n",
       "</table>\n"
      ],
      "text/latex": [
       "\\begin{tabular}{r|ll}\n",
       " month & cnt\\\\\n",
       "\\hline\n",
       "\t  7    & 29425\\\\\n",
       "\t  8    & 29327\\\\\n",
       "\t 10    & 28889\\\\\n",
       "\t  3    & 28834\\\\\n",
       "\t  5    & 28796\\\\\n",
       "\t  4    & 28330\\\\\n",
       "\t  6    & 28243\\\\\n",
       "\t 12    & 28135\\\\\n",
       "\t  9    & 27574\\\\\n",
       "\t 11    & 27268\\\\\n",
       "\t  1    & 27004\\\\\n",
       "\t  2    & 24951\\\\\n",
       "\\end{tabular}\n"
      ],
      "text/markdown": [
       "\n",
       "month | cnt | \n",
       "|---|---|---|---|---|---|---|---|---|---|---|---|\n",
       "|  7    | 29425 | \n",
       "|  8    | 29327 | \n",
       "| 10    | 28889 | \n",
       "|  3    | 28834 | \n",
       "|  5    | 28796 | \n",
       "|  4    | 28330 | \n",
       "|  6    | 28243 | \n",
       "| 12    | 28135 | \n",
       "|  9    | 27574 | \n",
       "| 11    | 27268 | \n",
       "|  1    | 27004 | \n",
       "|  2    | 24951 | \n",
       "\n",
       "\n"
      ],
      "text/plain": [
       "   month cnt  \n",
       "1   7    29425\n",
       "2   8    29327\n",
       "3  10    28889\n",
       "4   3    28834\n",
       "5   5    28796\n",
       "6   4    28330\n",
       "7   6    28243\n",
       "8  12    28135\n",
       "9   9    27574\n",
       "10 11    27268\n",
       "11  1    27004\n",
       "12  2    24951"
      ]
     },
     "metadata": {},
     "output_type": "display_data"
    }
   ],
   "source": [
    "flights %>% group_by(month) %>% summarise(cnt = n()) %>% arrange(desc(cnt))\n",
    "# or you can use tally() instead of summarise tally(sort=T)\n",
    "# flights %>% group_by(month) %>% tally()\n",
    "# More enhanced version of the above code is count(  , sort = T)\n",
    "# flights %>% count(month)"
   ]
  },
  {
   "cell_type": "code",
   "execution_count": 15,
   "metadata": {
    "collapsed": false
   },
   "outputs": [
    {
     "data": {
      "text/html": [
       "<table>\n",
       "<thead><tr><th scope=col>month</th><th scope=col>dist</th></tr></thead>\n",
       "<tbody>\n",
       "\t<tr><td> 1      </td><td>27188805</td></tr>\n",
       "\t<tr><td> 2      </td><td>24975509</td></tr>\n",
       "\t<tr><td> 3      </td><td>29179636</td></tr>\n",
       "\t<tr><td> 4      </td><td>29427294</td></tr>\n",
       "\t<tr><td> 5      </td><td>29974128</td></tr>\n",
       "\t<tr><td> 6      </td><td>29856388</td></tr>\n",
       "\t<tr><td> 7      </td><td>31149199</td></tr>\n",
       "\t<tr><td> 8      </td><td>31149334</td></tr>\n",
       "\t<tr><td> 9      </td><td>28711426</td></tr>\n",
       "\t<tr><td>10      </td><td>30012086</td></tr>\n",
       "\t<tr><td>11      </td><td>28639718</td></tr>\n",
       "\t<tr><td>12      </td><td>29954084</td></tr>\n",
       "</tbody>\n",
       "</table>\n"
      ],
      "text/latex": [
       "\\begin{tabular}{r|ll}\n",
       " month & dist\\\\\n",
       "\\hline\n",
       "\t  1       & 27188805\\\\\n",
       "\t  2       & 24975509\\\\\n",
       "\t  3       & 29179636\\\\\n",
       "\t  4       & 29427294\\\\\n",
       "\t  5       & 29974128\\\\\n",
       "\t  6       & 29856388\\\\\n",
       "\t  7       & 31149199\\\\\n",
       "\t  8       & 31149334\\\\\n",
       "\t  9       & 28711426\\\\\n",
       "\t 10       & 30012086\\\\\n",
       "\t 11       & 28639718\\\\\n",
       "\t 12       & 29954084\\\\\n",
       "\\end{tabular}\n"
      ],
      "text/markdown": [
       "\n",
       "month | dist | \n",
       "|---|---|---|---|---|---|---|---|---|---|---|---|\n",
       "|  1       | 27188805 | \n",
       "|  2       | 24975509 | \n",
       "|  3       | 29179636 | \n",
       "|  4       | 29427294 | \n",
       "|  5       | 29974128 | \n",
       "|  6       | 29856388 | \n",
       "|  7       | 31149199 | \n",
       "|  8       | 31149334 | \n",
       "|  9       | 28711426 | \n",
       "| 10       | 30012086 | \n",
       "| 11       | 28639718 | \n",
       "| 12       | 29954084 | \n",
       "\n",
       "\n"
      ],
      "text/plain": [
       "   month dist    \n",
       "1   1    27188805\n",
       "2   2    24975509\n",
       "3   3    29179636\n",
       "4   4    29427294\n",
       "5   5    29974128\n",
       "6   6    29856388\n",
       "7   7    31149199\n",
       "8   8    31149334\n",
       "9   9    28711426\n",
       "10 10    30012086\n",
       "11 11    28639718\n",
       "12 12    29954084"
      ]
     },
     "metadata": {},
     "output_type": "display_data"
    }
   ],
   "source": [
    "# we can do lot more stuff than just count in summarise()\n",
    "flights %>% group_by(month) %>% summarise(dist = sum(distance))\n",
    "# flights %>% group_by(month) %>% summarise(dist = max(distance))\n",
    "# flights %>% group_by(month) %>% summarise(dist = min(distance))\n",
    "# flights %>% group_by(month) %>% summarise(dist = sd(distance))"
   ]
  },
  {
   "cell_type": "code",
   "execution_count": null,
   "metadata": {
    "collapsed": false
   },
   "outputs": [],
   "source": [
    "# for each carrier calculate the percentage of flights cancelled or diverted \n",
    "flights %>% group_by(UniqueCarrier) %>% summarise_each(funs(mean) , Cancelled, Diverted)"
   ]
  },
  {
   "cell_type": "code",
   "execution_count": 20,
   "metadata": {
    "collapsed": true
   },
   "outputs": [],
   "source": [
    "# Their 4 mutating joins and 2 filtering joins in dplyr\n",
    "# left_join() , right_join() , inner_joi() , full_join() and semi_join() , anti_join()\n",
    "a <- data_frame(color = c(\"red\",\"green\",\"yellow\"), num = 1:3)\n",
    "b <- data_frame(color = c(\"red\",\"green\",\"pink\"), size = c(\"S\",\"M\",\"L\"))"
   ]
  },
  {
   "cell_type": "code",
   "execution_count": 21,
   "metadata": {
    "collapsed": false
   },
   "outputs": [
    {
     "name": "stderr",
     "output_type": "stream",
     "text": [
      "Joining, by = \"color\"\n"
     ]
    },
    {
     "data": {
      "text/html": [
       "<table>\n",
       "<thead><tr><th scope=col>color</th><th scope=col>num</th><th scope=col>size</th></tr></thead>\n",
       "<tbody>\n",
       "\t<tr><td>red  </td><td>1    </td><td>S    </td></tr>\n",
       "\t<tr><td>green</td><td>2    </td><td>M    </td></tr>\n",
       "</tbody>\n",
       "</table>\n"
      ],
      "text/latex": [
       "\\begin{tabular}{r|lll}\n",
       " color & num & size\\\\\n",
       "\\hline\n",
       "\t red   & 1     & S    \\\\\n",
       "\t green & 2     & M    \\\\\n",
       "\\end{tabular}\n"
      ],
      "text/markdown": [
       "\n",
       "color | num | size | \n",
       "|---|---|\n",
       "| red   | 1     | S     | \n",
       "| green | 2     | M     | \n",
       "\n",
       "\n"
      ],
      "text/plain": [
       "  color num size\n",
       "1 red   1   S   \n",
       "2 green 2   M   "
      ]
     },
     "metadata": {},
     "output_type": "display_data"
    }
   ],
   "source": [
    "# Only includes observations found in both \"a\" and \"b\" (automatically joins on variables that appear in both tables)\n",
    "inner_join(a,b)"
   ]
  },
  {
   "cell_type": "code",
   "execution_count": 23,
   "metadata": {
    "collapsed": false
   },
   "outputs": [
    {
     "name": "stderr",
     "output_type": "stream",
     "text": [
      "Joining, by = \"color\"\n"
     ]
    },
    {
     "data": {
      "text/html": [
       "<table>\n",
       "<thead><tr><th scope=col>color</th><th scope=col>num</th><th scope=col>size</th></tr></thead>\n",
       "<tbody>\n",
       "\t<tr><td>red   </td><td> 1    </td><td>S     </td></tr>\n",
       "\t<tr><td>green </td><td> 2    </td><td>M     </td></tr>\n",
       "\t<tr><td>yellow</td><td> 3    </td><td>NA    </td></tr>\n",
       "\t<tr><td>pink  </td><td>NA    </td><td>L     </td></tr>\n",
       "</tbody>\n",
       "</table>\n"
      ],
      "text/latex": [
       "\\begin{tabular}{r|lll}\n",
       " color & num & size\\\\\n",
       "\\hline\n",
       "\t red    &  1     & S     \\\\\n",
       "\t green  &  2     & M     \\\\\n",
       "\t yellow &  3     & NA    \\\\\n",
       "\t pink   & NA     & L     \\\\\n",
       "\\end{tabular}\n"
      ],
      "text/markdown": [
       "\n",
       "color | num | size | \n",
       "|---|---|---|---|\n",
       "| red    |  1     | S      | \n",
       "| green  |  2     | M      | \n",
       "| yellow |  3     | NA     | \n",
       "| pink   | NA     | L      | \n",
       "\n",
       "\n"
      ],
      "text/plain": [
       "  color  num size\n",
       "1 red     1  S   \n",
       "2 green   2  M   \n",
       "3 yellow  3  NA  \n",
       "4 pink   NA  L   "
      ]
     },
     "metadata": {},
     "output_type": "display_data"
    }
   ],
   "source": [
    "# includes all observations found in \"a\" and \"b\"  \n",
    "full_join(a,b)"
   ]
  },
  {
   "cell_type": "code",
   "execution_count": 24,
   "metadata": {
    "collapsed": false
   },
   "outputs": [
    {
     "name": "stderr",
     "output_type": "stream",
     "text": [
      "Joining, by = \"color\"\n"
     ]
    },
    {
     "data": {
      "text/html": [
       "<table>\n",
       "<thead><tr><th scope=col>color</th><th scope=col>num</th><th scope=col>size</th></tr></thead>\n",
       "<tbody>\n",
       "\t<tr><td>red   </td><td>1     </td><td>S     </td></tr>\n",
       "\t<tr><td>green </td><td>2     </td><td>M     </td></tr>\n",
       "\t<tr><td>yellow</td><td>3     </td><td>NA    </td></tr>\n",
       "</tbody>\n",
       "</table>\n"
      ],
      "text/latex": [
       "\\begin{tabular}{r|lll}\n",
       " color & num & size\\\\\n",
       "\\hline\n",
       "\t red    & 1      & S     \\\\\n",
       "\t green  & 2      & M     \\\\\n",
       "\t yellow & 3      & NA    \\\\\n",
       "\\end{tabular}\n"
      ],
      "text/markdown": [
       "\n",
       "color | num | size | \n",
       "|---|---|---|\n",
       "| red    | 1      | S      | \n",
       "| green  | 2      | M      | \n",
       "| yellow | 3      | NA     | \n",
       "\n",
       "\n"
      ],
      "text/plain": [
       "  color  num size\n",
       "1 red    1   S   \n",
       "2 green  2   M   \n",
       "3 yellow 3   NA  "
      ]
     },
     "metadata": {},
     "output_type": "display_data"
    }
   ],
   "source": [
    "# includes all the observations found in \"a\"\n",
    "left_join(a,b)"
   ]
  },
  {
   "cell_type": "code",
   "execution_count": 26,
   "metadata": {
    "collapsed": false
   },
   "outputs": [
    {
     "name": "stderr",
     "output_type": "stream",
     "text": [
      "Joining, by = \"color\"\n"
     ]
    },
    {
     "data": {
      "text/html": [
       "<table>\n",
       "<thead><tr><th scope=col>color</th><th scope=col>num</th><th scope=col>size</th></tr></thead>\n",
       "<tbody>\n",
       "\t<tr><td>red  </td><td> 1   </td><td>S    </td></tr>\n",
       "\t<tr><td>green</td><td> 2   </td><td>M    </td></tr>\n",
       "\t<tr><td>pink </td><td>NA   </td><td>L    </td></tr>\n",
       "</tbody>\n",
       "</table>\n"
      ],
      "text/latex": [
       "\\begin{tabular}{r|lll}\n",
       " color & num & size\\\\\n",
       "\\hline\n",
       "\t red   &  1    & S    \\\\\n",
       "\t green &  2    & M    \\\\\n",
       "\t pink  & NA    & L    \\\\\n",
       "\\end{tabular}\n"
      ],
      "text/markdown": [
       "\n",
       "color | num | size | \n",
       "|---|---|---|\n",
       "| red   |  1    | S     | \n",
       "| green |  2    | M     | \n",
       "| pink  | NA    | L     | \n",
       "\n",
       "\n"
      ],
      "text/plain": [
       "  color num size\n",
       "1 red    1  S   \n",
       "2 green  2  M   \n",
       "3 pink  NA  L   "
      ]
     },
     "metadata": {},
     "output_type": "display_data"
    }
   ],
   "source": [
    "# includes all the observations found in \"b\"\n",
    "right_join(a,b)"
   ]
  },
  {
   "cell_type": "code",
   "execution_count": 27,
   "metadata": {
    "collapsed": false
   },
   "outputs": [
    {
     "name": "stderr",
     "output_type": "stream",
     "text": [
      "Joining, by = \"color\"\n"
     ]
    },
    {
     "data": {
      "text/html": [
       "<table>\n",
       "<thead><tr><th scope=col>color</th><th scope=col>num</th></tr></thead>\n",
       "<tbody>\n",
       "\t<tr><td>red  </td><td>1    </td></tr>\n",
       "\t<tr><td>green</td><td>2    </td></tr>\n",
       "</tbody>\n",
       "</table>\n"
      ],
      "text/latex": [
       "\\begin{tabular}{r|ll}\n",
       " color & num\\\\\n",
       "\\hline\n",
       "\t red   & 1    \\\\\n",
       "\t green & 2    \\\\\n",
       "\\end{tabular}\n"
      ],
      "text/markdown": [
       "\n",
       "color | num | \n",
       "|---|---|\n",
       "| red   | 1     | \n",
       "| green | 2     | \n",
       "\n",
       "\n"
      ],
      "text/plain": [
       "  color num\n",
       "1 red   1  \n",
       "2 green 2  "
      ]
     },
     "metadata": {},
     "output_type": "display_data"
    }
   ],
   "source": [
    "# filters \"a\" to only show observations that match \"b\"\n",
    "semi_join(a,b)"
   ]
  },
  {
   "cell_type": "code",
   "execution_count": 28,
   "metadata": {
    "collapsed": false
   },
   "outputs": [
    {
     "name": "stderr",
     "output_type": "stream",
     "text": [
      "Joining, by = \"color\"\n"
     ]
    },
    {
     "data": {
      "text/html": [
       "<table>\n",
       "<thead><tr><th scope=col>color</th><th scope=col>num</th></tr></thead>\n",
       "<tbody>\n",
       "\t<tr><td>yellow</td><td>3     </td></tr>\n",
       "</tbody>\n",
       "</table>\n"
      ],
      "text/latex": [
       "\\begin{tabular}{r|ll}\n",
       " color & num\\\\\n",
       "\\hline\n",
       "\t yellow & 3     \\\\\n",
       "\\end{tabular}\n"
      ],
      "text/markdown": [
       "\n",
       "color | num | \n",
       "|---|\n",
       "| yellow | 3      | \n",
       "\n",
       "\n"
      ],
      "text/plain": [
       "  color  num\n",
       "1 yellow 3  "
      ]
     },
     "metadata": {},
     "output_type": "display_data"
    }
   ],
   "source": [
    "# filters \"a\" to only show observations that donot match \"b\"\n",
    "anti_join(a,b)"
   ]
  },
  {
   "cell_type": "code",
   "execution_count": 43,
   "metadata": {
    "collapsed": false
   },
   "outputs": [
    {
     "data": {
      "text/html": [
       "<table>\n",
       "<thead><tr><th scope=col>color</th><th scope=col>num</th><th scope=col>size</th></tr></thead>\n",
       "<tbody>\n",
       "\t<tr><td>red  </td><td>1    </td><td>S    </td></tr>\n",
       "\t<tr><td>green</td><td>2    </td><td>M    </td></tr>\n",
       "</tbody>\n",
       "</table>\n"
      ],
      "text/latex": [
       "\\begin{tabular}{r|lll}\n",
       " color & num & size\\\\\n",
       "\\hline\n",
       "\t red   & 1     & S    \\\\\n",
       "\t green & 2     & M    \\\\\n",
       "\\end{tabular}\n"
      ],
      "text/markdown": [
       "\n",
       "color | num | size | \n",
       "|---|---|\n",
       "| red   | 1     | S     | \n",
       "| green | 2     | M     | \n",
       "\n",
       "\n"
      ],
      "text/plain": [
       "  color num size\n",
       "1 red   1   S   \n",
       "2 green 2   M   "
      ]
     },
     "metadata": {},
     "output_type": "display_data"
    }
   ],
   "source": [
    "# Some times matching variables donot have identical names\n",
    "#b <- b %>% rename(col = color) # rename a columns\n",
    "inner_join(a,b,by = c(\"color\" = \"col\"))       "
   ]
  },
  {
   "cell_type": "code",
   "execution_count": 38,
   "metadata": {
    "collapsed": true
   },
   "outputs": [],
   "source": [
    "#require(hflights)\n",
    "#flights %>% group_by(Dest) %>% select(Cancelled) %>% table()"
   ]
  },
  {
   "cell_type": "code",
   "execution_count": null,
   "metadata": {
    "collapsed": true
   },
   "outputs": [],
   "source": []
  }
 ],
 "metadata": {
  "kernelspec": {
   "display_name": "R",
   "language": "R",
   "name": "ir"
  },
  "language_info": {
   "codemirror_mode": "r",
   "file_extension": ".r",
   "mimetype": "text/x-r-source",
   "name": "R",
   "pygments_lexer": "r",
   "version": "3.3.2"
  }
 },
 "nbformat": 4,
 "nbformat_minor": 2
}
