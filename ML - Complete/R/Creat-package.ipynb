{
 "cells": [
  {
   "cell_type": "code",
   "execution_count": 1,
   "metadata": {
    "collapsed": false
   },
   "outputs": [
    {
     "name": "stderr",
     "output_type": "stream",
     "text": [
      "Loading required package: caret\n",
      "Loading required package: lattice\n",
      "Loading required package: ggplot2\n"
     ]
    }
   ],
   "source": [
    "require(caret)\n",
    "library(kernlab)\n",
    "data(spam)"
   ]
  },
  {
   "cell_type": "code",
   "execution_count": null,
   "metadata": {
    "collapsed": true
   },
   "outputs": [],
   "source": [
    "inTrain <- createDataPartition(y=spam$type,p=0.75,list=F)\n",
    "training <- spam[inTrain,]\n",
    "testing <- spam[-inTrain,]"
   ]
  },
  {
   "cell_type": "code",
   "execution_count": null,
   "metadata": {
    "collapsed": true
   },
   "outputs": [],
   "source": [
    "set.seed(123)\n",
    "modelFit <- train(type~.,data=training,method = \"glm\")\n",
    "modelFit\n",
    "# To see the fitten values for the above model\n",
    "modelFit$finalModel"
   ]
  },
  {
   "cell_type": "code",
   "execution_count": null,
   "metadata": {
    "collapsed": true
   },
   "outputs": [],
   "source": [
    "predictions <- predict(modelFit,newdata = testing)\n",
    "confusionMatrix(predictions,testing$type)"
   ]
  },
  {
   "cell_type": "code",
   "execution_count": null,
   "metadata": {
    "collapsed": true
   },
   "outputs": [],
   "source": [
    "# Creating K-folds\n",
    "folds <- createFolds(y=spam$type,k=10,list=T,returnTrain = T)\n",
    "sapply(folds,length)"
   ]
  },
  {
   "cell_type": "code",
   "execution_count": null,
   "metadata": {
    "collapsed": true
   },
   "outputs": [],
   "source": [
    "# using resampling techniques, with replacement , check if without replacement is available\n",
    "folds <- createResample(y = spam$type, times=10,list = T)\n",
    "sapply(folds,length)"
   ]
  },
  {
   "cell_type": "code",
   "execution_count": null,
   "metadata": {
    "collapsed": true
   },
   "outputs": [],
   "source": [
    "# Data pre-processing\n",
    "# Standarding all the variables in the data\n",
    "preObj <- preProcess(training, method = (\"center\",\"scale\"))\n",
    "trainCaps <- predict(preObj, training)$capitalAve\n",
    "testCaps <- predict(preObj, testing)$capitalAve"
   ]
  },
  {
   "cell_type": "code",
   "execution_count": null,
   "metadata": {
    "collapsed": true
   },
   "outputs": [],
   "source": [
    "# Imputing the data\n",
    "# We can use KNNImputation\n",
    "prePbj <- preProcess(training, method = \"knnImpute\")\n",
    "capAve <- predict(preObj, training)$capitalAve"
   ]
  },
  {
   "cell_type": "code",
   "execution_count": null,
   "metadata": {
    "collapsed": true
   },
   "outputs": [],
   "source": [
    "# Pre-processing with PCA\n",
    "# Often times you have multiple quantitative variables, which are highly co-related with each other or similar (almost/exactly same)\n",
    "# Use the data which captures the maximum information\n",
    "M <- abs(cor(training[,-58])) #58 is outcome variable\n",
    "diag(M)<-0\n",
    "which(M>0.8,arr.ind = T)"
   ]
  },
  {
   "cell_type": "code",
   "execution_count": null,
   "metadata": {
    "collapsed": true
   },
   "outputs": [],
   "source": [
    "# Basic idea of PCA\n",
    "#  We might not need every predictor variable \n",
    "#  A weighted combination of predictors might be useful\n",
    "#  We should pick this combination to capture the \"most information\" possible\n",
    "#  Benifits:\n",
    "#           reduced number of predictors\n",
    "#           Reduced noise"
   ]
  },
  {
   "cell_type": "code",
   "execution_count": null,
   "metadata": {
    "collapsed": true
   },
   "outputs": [],
   "source": [
    "preProc <- preProcess(training, method = \"pca\",pcaComp = 2)\n",
    "trainPC <- predict(preProc,training)\n",
    "testPC <- predict(preProc,test)\n",
    "modelFit <- train(training$churn ~ .,method = \"glm\",data = trainPC)\n",
    "# simply put this\n",
    "modelFit <- train(training$churn ~.,method = \"glm\",preProcess = \"pca\", data = training)\n",
    "confusionMatrix(testing$churn, predict(modelFit,testing))"
   ]
  },
  {
   "cell_type": "code",
   "execution_count": null,
   "metadata": {
    "collapsed": true
   },
   "outputs": [],
   "source": []
  },
  {
   "cell_type": "code",
   "execution_count": null,
   "metadata": {
    "collapsed": true
   },
   "outputs": [],
   "source": []
  }
 ],
 "metadata": {
  "kernelspec": {
   "display_name": "R",
   "language": "R",
   "name": "ir"
  },
  "language_info": {
   "codemirror_mode": "r",
   "file_extension": ".r",
   "mimetype": "text/x-r-source",
   "name": "R",
   "pygments_lexer": "r",
   "version": "3.3.2"
  }
 },
 "nbformat": 4,
 "nbformat_minor": 2
}
