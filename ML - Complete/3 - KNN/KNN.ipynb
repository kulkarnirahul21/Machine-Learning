{
 "cells": [
  {
   "cell_type": "markdown",
   "metadata": {},
   "source": [
    "#  K - Nearest Neighbours"
   ]
  },
  {
   "cell_type": "markdown",
   "metadata": {},
   "source": [
    "Other Tutorials and piece of code\n",
    "http://blog.yhat.com/posts/classification-using-knn-and-python.html"
   ]
  },
  {
   "cell_type": "code",
   "execution_count": 63,
   "metadata": {
    "collapsed": true
   },
   "outputs": [],
   "source": [
    "import pandas as pd\n",
    "from sklearn import preprocessing, cross_validation, neighbors,metrics\n",
    "import numpy as np"
   ]
  },
  {
   "cell_type": "code",
   "execution_count": 64,
   "metadata": {
    "collapsed": false
   },
   "outputs": [],
   "source": [
    "data = pd.read_csv('breast-cancer-wisconsin.csv')\n",
    "df = data.drop('id',axis=1) # As id has nothing to do with cancer\n",
    "del(data)"
   ]
  },
  {
   "cell_type": "code",
   "execution_count": 65,
   "metadata": {
    "collapsed": false
   },
   "outputs": [
    {
     "data": {
      "text/plain": [
       "Index(['clump_thickness', 'unif_cell_size', 'unif_cell_shape', 'marg_adhesion',\n",
       "       'single_epith_cell_size', 'bare_nucliei', 'bland_chrom',\n",
       "       'norm_nucleoli', 'mitoses', 'class'],\n",
       "      dtype='object')"
      ]
     },
     "execution_count": 65,
     "metadata": {},
     "output_type": "execute_result"
    }
   ],
   "source": [
    "df.dtypes\n",
    "#df.bare_nucliei.unique() # So their are '?' marks in place of NAN, so I have to replace them.\n",
    "df.replace('?', -99999,inplace=True)\n",
    "# I have used -99999 because most of the ML algorithms would consider them as outlier as ignore it '-99999' is not a fixed number\n",
    "# I just want to show a huge number with respect to this dataset.\n",
    "# their are on 16, so in theory you can just drop them and get rid of thoes\n",
    "df.columns"
   ]
  },
  {
   "cell_type": "code",
   "execution_count": 66,
   "metadata": {
    "collapsed": false
   },
   "outputs": [],
   "source": [
    "X = np.array(df.drop(['class'],1))\n",
    "y =np.array(df['class'])"
   ]
  },
  {
   "cell_type": "code",
   "execution_count": 67,
   "metadata": {
    "collapsed": false
   },
   "outputs": [],
   "source": [
    "X_train, X_test, y_train, y_test = cross_validation.train_test_split(X,y,test_size=0.2)"
   ]
  },
  {
   "cell_type": "code",
   "execution_count": 68,
   "metadata": {
    "collapsed": false
   },
   "outputs": [
    {
     "data": {
      "text/plain": [
       "KNeighborsClassifier(algorithm='auto', leaf_size=30, metric='minkowski',\n",
       "           metric_params=None, n_jobs=1, n_neighbors=5, p=2,\n",
       "           weights='uniform')"
      ]
     },
     "execution_count": 68,
     "metadata": {},
     "output_type": "execute_result"
    }
   ],
   "source": [
    "clf = neighbors.KNeighborsClassifier()\n",
    "clf.fit(X_train,y_train)"
   ]
  },
  {
   "cell_type": "code",
   "execution_count": 69,
   "metadata": {
    "collapsed": false
   },
   "outputs": [
    {
     "data": {
      "text/plain": [
       "0.99285714285714288"
      ]
     },
     "execution_count": 69,
     "metadata": {},
     "output_type": "execute_result"
    }
   ],
   "source": [
    "clf.score(X_test,y_test) # with defaults values\n",
    "# Try this without droping the ID columns. You will se massive drop in the accuracy"
   ]
  },
  {
   "cell_type": "code",
   "execution_count": 70,
   "metadata": {
    "collapsed": false
   },
   "outputs": [
    {
     "name": "stdout",
     "output_type": "stream",
     "text": [
      "[[94  1]\n",
      " [ 0 45]]\n",
      "             precision    recall  f1-score   support\n",
      "\n",
      "          2       1.00      0.99      0.99        95\n",
      "          4       0.98      1.00      0.99        45\n",
      "\n",
      "avg / total       0.99      0.99      0.99       140\n",
      "\n"
     ]
    }
   ],
   "source": [
    "Y_test = clf.predict(X_test)\n",
    "# Confusion Matrix\n",
    "print(metrics.confusion_matrix(y_test, Y_test))\n",
    "print(metrics.classification_report(y_test, Y_test))"
   ]
  },
  {
   "cell_type": "code",
   "execution_count": 71,
   "metadata": {
    "collapsed": false
   },
   "outputs": [
    {
     "name": "stdout",
     "output_type": "stream",
     "text": [
      "Explained Variance Score: 0.9674853801169591\n",
      "Mean Absolute Error: 0.014285714285714285\n",
      "Mean Squared Error: 0.02857142857142857\n",
      "R - Squared value: 0.9672514619883041\n",
      "What percent of predictions are same: 0.9928571428571429\n"
     ]
    }
   ],
   "source": [
    "from sklearn.metrics import explained_variance_score, mean_absolute_error, mean_squared_error, r2_score, jaccard_similarity_score, roc_auc_score\n",
    "\n",
    "ev = explained_variance_score(y_test, Y_test, multioutput='uniform_average')\n",
    "# Best possible score is 1.0, lower values are worse.\n",
    "print(\"Explained Variance Score: {}\". format(ev))\n",
    "\n",
    "mae = mean_absolute_error(y_test, Y_test, multioutput='uniform_average')\n",
    "# MAE output is non-negative floating point. The best value is 0.0.\n",
    "print(\"Mean Absolute Error: {}\".format(mae))\n",
    "\n",
    "mse = mean_squared_error(y_test, Y_test, multioutput='uniform_average')\n",
    "# MAE output is non-negative floating point. The best value is 0.0.\n",
    "print(\"Mean Squared Error: {}\".format(mse))\n",
    "\n",
    "r2 = r2_score(y_test, Y_test)\n",
    "# R^2 (coefficient of determination) regression score function.\n",
    "# Best possible score is 1.0 and it can be negative (because the model can be arbitrarily worse). A constant model that always \n",
    "# predicts the expected value of y, disregarding the input features, would get a R^2 score of 0.0.\n",
    "print(\"R - Squared value: {}\".format(r2))\n",
    "\n",
    "print('What percent of predictions are same: {}'.format(jaccard_similarity_score(y_test, Y_test)))"
   ]
  },
  {
   "cell_type": "code",
   "execution_count": 61,
   "metadata": {
    "collapsed": false
   },
   "outputs": [
    {
     "name": "stdout",
     "output_type": "stream",
     "text": [
      "[ 0.90140845  0.98571429  0.97142857  0.92857143  1.          0.95714286\n",
      "  0.98571429  1.          0.98550725  0.97101449]\n",
      "0.968650161841\n"
     ]
    }
   ],
   "source": [
    "# evaluate the model using 10-fold cross-validation\n",
    "scores = cross_validation.cross_val_score(neighbors.KNeighborsClassifier(), X, y, scoring='accuracy', cv=10)\n",
    "print(scores)\n",
    "print(scores.mean())"
   ]
  },
  {
   "cell_type": "code",
   "execution_count": null,
   "metadata": {
    "collapsed": true
   },
   "outputs": [],
   "source": []
  }
 ],
 "metadata": {
  "anaconda-cloud": {},
  "kernelspec": {
   "display_name": "Python [conda root]",
   "language": "python",
   "name": "conda-root-py"
  },
  "language_info": {
   "codemirror_mode": {
    "name": "ipython",
    "version": 3
   },
   "file_extension": ".py",
   "mimetype": "text/x-python",
   "name": "python",
   "nbconvert_exporter": "python",
   "pygments_lexer": "ipython3",
   "version": "3.5.2"
  }
 },
 "nbformat": 4,
 "nbformat_minor": 1
}
