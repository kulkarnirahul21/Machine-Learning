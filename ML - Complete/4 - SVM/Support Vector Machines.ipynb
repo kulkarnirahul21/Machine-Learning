{
 "cells": [
  {
   "cell_type": "markdown",
   "metadata": {},
   "source": [
    "# SVM"
   ]
  },
  {
   "cell_type": "markdown",
   "metadata": {},
   "source": [
    "“Support Vector Machine” (SVM) is a supervised machine learning algorithm which can be used for both classification or regression challenges. However,  it is mostly used in classification problems. In this algorithm, we plot each data item as a point in n-dimensional space (where n is number of features you have) with the value of each feature being the value of a particular coordinate. Then, we perform classification by finding the hyper-plane that differentiate the two classes very well (look at the below snapshot).\n",
    "\n",
    "Refrerence: https://www.analyticsvidhya.com/blog/2015/10/understaing-support-vector-machine-example-code/"
   ]
  },
  {
   "cell_type": "code",
   "execution_count": 4,
   "metadata": {
    "collapsed": true
   },
   "outputs": [],
   "source": [
    "import pandas as pd\n",
    "from sklearn import preprocessing, cross_validation, svm,metrics\n",
    "import numpy as np"
   ]
  },
  {
   "cell_type": "code",
   "execution_count": 14,
   "metadata": {
    "collapsed": false
   },
   "outputs": [],
   "source": [
    "data = pd.read_csv('breast-cancer-wisconsin.csv')\n",
    "df = data.drop('id',axis=1) # As id has nothing to do with cancer\n",
    "del(data)\n",
    "df.replace('?',-99999,inplace=True)"
   ]
  },
  {
   "cell_type": "code",
   "execution_count": 15,
   "metadata": {
    "collapsed": true
   },
   "outputs": [],
   "source": [
    "X = np.array(df.drop(['class'],1))\n",
    "y =np.array(df['class'])"
   ]
  },
  {
   "cell_type": "code",
   "execution_count": 17,
   "metadata": {
    "collapsed": false
   },
   "outputs": [
    {
     "data": {
      "text/plain": [
       "SVC(C=1.0, cache_size=200, class_weight=None, coef0=0.0,\n",
       "  decision_function_shape=None, degree=3, gamma='auto', kernel='rbf',\n",
       "  max_iter=-1, probability=False, random_state=None, shrinking=True,\n",
       "  tol=0.001, verbose=False)"
      ]
     },
     "execution_count": 17,
     "metadata": {},
     "output_type": "execute_result"
    }
   ],
   "source": [
    "X_train, X_test, y_train, y_test = cross_validation.train_test_split(X,y,test_size=0.2)\n",
    "clf = svm.SVC()\n",
    "# clf = svm.SVC(kernel='poly', C=5,gamma=0)\n",
    "# most important parameters are kernel, gama and C\n",
    "# in kernal = “linear”, “rbf”,”poly”\n",
    "clf.fit(X_train,y_train)"
   ]
  },
  {
   "cell_type": "code",
   "execution_count": 18,
   "metadata": {
    "collapsed": false
   },
   "outputs": [
    {
     "data": {
      "text/plain": [
       "0.97142857142857142"
      ]
     },
     "execution_count": 18,
     "metadata": {},
     "output_type": "execute_result"
    }
   ],
   "source": [
    "clf.score(X_test,y_test) # with defaults values\n",
    "# Try this without droping the ID columns. You will se massive drop in the accuracy"
   ]
  },
  {
   "cell_type": "code",
   "execution_count": 19,
   "metadata": {
    "collapsed": false
   },
   "outputs": [
    {
     "name": "stdout",
     "output_type": "stream",
     "text": [
      "[[100   4]\n",
      " [  0  36]]\n",
      "             precision    recall  f1-score   support\n",
      "\n",
      "          2       1.00      0.96      0.98       104\n",
      "          4       0.90      1.00      0.95        36\n",
      "\n",
      "avg / total       0.97      0.97      0.97       140\n",
      "\n"
     ]
    }
   ],
   "source": [
    "Y_test = clf.predict(X_test)\n",
    "# Confusion Matrix\n",
    "print(metrics.confusion_matrix(y_test, Y_test))\n",
    "print(metrics.classification_report(y_test, Y_test))"
   ]
  },
  {
   "cell_type": "code",
   "execution_count": 20,
   "metadata": {
    "collapsed": false
   },
   "outputs": [
    {
     "name": "stdout",
     "output_type": "stream",
     "text": [
      "Explained Variance Score: 0.8547008547008547\n",
      "Mean Absolute Error: 0.05714285714285714\n",
      "Mean Squared Error: 0.11428571428571428\n",
      "R - Squared value: 0.8504273504273504\n",
      "What percent of predictions are same: 0.9714285714285714\n"
     ]
    }
   ],
   "source": [
    "from sklearn.metrics import explained_variance_score, mean_absolute_error, mean_squared_error, r2_score, jaccard_similarity_score, roc_auc_score\n",
    "\n",
    "ev = explained_variance_score(y_test, Y_test, multioutput='uniform_average')\n",
    "# Best possible score is 1.0, lower values are worse.\n",
    "print(\"Explained Variance Score: {}\". format(ev))\n",
    "\n",
    "mae = mean_absolute_error(y_test, Y_test, multioutput='uniform_average')\n",
    "# MAE output is non-negative floating point. The best value is 0.0.\n",
    "print(\"Mean Absolute Error: {}\".format(mae))\n",
    "\n",
    "mse = mean_squared_error(y_test, Y_test, multioutput='uniform_average')\n",
    "# MAE output is non-negative floating point. The best value is 0.0.\n",
    "print(\"Mean Squared Error: {}\".format(mse))\n",
    "\n",
    "r2 = r2_score(y_test, Y_test)\n",
    "# R^2 (coefficient of determination) regression score function.\n",
    "# Best possible score is 1.0 and it can be negative (because the model can be arbitrarily worse). A constant model that always \n",
    "# predicts the expected value of y, disregarding the input features, would get a R^2 score of 0.0.\n",
    "print(\"R - Squared value: {}\".format(r2))\n",
    "\n",
    "print('What percent of predictions are same: {}'.format(jaccard_similarity_score(y_test, Y_test)))"
   ]
  },
  {
   "cell_type": "code",
   "execution_count": 21,
   "metadata": {
    "collapsed": false
   },
   "outputs": [
    {
     "name": "stdout",
     "output_type": "stream",
     "text": [
      "[ 0.87323944  0.95714286  0.97142857  0.88571429  0.98571429  0.97142857\n",
      "  0.98571429  0.98571429  0.98550725  0.98550725]\n",
      "0.958711107223\n"
     ]
    }
   ],
   "source": [
    "# evaluate the model using 10-fold cross-validation\n",
    "scores = cross_validation.cross_val_score(svm.SVC(), X, y, scoring='accuracy', cv=10)\n",
    "print(scores)\n",
    "print(scores.mean())"
   ]
  },
  {
   "cell_type": "code",
   "execution_count": null,
   "metadata": {
    "collapsed": true
   },
   "outputs": [],
   "source": []
  }
 ],
 "metadata": {
  "anaconda-cloud": {},
  "kernelspec": {
   "display_name": "Python [conda root]",
   "language": "python",
   "name": "conda-root-py"
  },
  "language_info": {
   "codemirror_mode": {
    "name": "ipython",
    "version": 3
   },
   "file_extension": ".py",
   "mimetype": "text/x-python",
   "name": "python",
   "nbconvert_exporter": "python",
   "pygments_lexer": "ipython3",
   "version": "3.5.2"
  }
 },
 "nbformat": 4,
 "nbformat_minor": 1
}
