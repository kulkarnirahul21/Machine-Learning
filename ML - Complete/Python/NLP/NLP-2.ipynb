{
 "cells": [
  {
   "cell_type": "markdown",
   "metadata": {},
   "source": [
    "Text classification in NLTK"
   ]
  },
  {
   "cell_type": "code",
   "execution_count": 1,
   "metadata": {
    "collapsed": false
   },
   "outputs": [
    {
     "name": "stdout",
     "output_type": "stream",
     "text": [
      "C:\\Users\\Rahul\\Anaconda3\\lib\\site-packages\\nltk\\__init__.py\n"
     ]
    }
   ],
   "source": [
    "import nltk\n",
    "print(nltk.__file__) # to see where your package is being installed\n",
    "from nltk.corpus import movie_reviews\n",
    "import random"
   ]
  },
  {
   "cell_type": "code",
   "execution_count": 5,
   "metadata": {
    "collapsed": false
   },
   "outputs": [],
   "source": [
    "documents = [(list(movie_reviews.words(fileid)),category)\n",
    "             for category in movie_reviews.categories()\n",
    "             for fileid in movie_reviews.fileids(category)]\n",
    "random.shuffle(documents)"
   ]
  },
  {
   "cell_type": "code",
   "execution_count": 7,
   "metadata": {
    "collapsed": false
   },
   "outputs": [],
   "source": [
    "#documents = []\n",
    "#for cat in movie_reviews.categories():\n",
    "#    for fileid in movie_reviews.fileids(cat):\n",
    "#        documents.append(list(movie_reviews.words(fileid)),cat)"
   ]
  },
  {
   "cell_type": "code",
   "execution_count": 9,
   "metadata": {
    "collapsed": false
   },
   "outputs": [
    {
     "data": {
      "text/plain": [
       "'go'"
      ]
     },
     "execution_count": 9,
     "metadata": {},
     "output_type": "execute_result"
    }
   ],
   "source": [
    "#print(documents[2])\n",
    "all_words = []\n",
    "for i in movie_reviews.words():\n",
    "    all_words.append(i.lower())\n",
    "all_words[5]"
   ]
  },
  {
   "cell_type": "code",
   "execution_count": 10,
   "metadata": {
    "collapsed": false
   },
   "outputs": [
    {
     "name": "stdout",
     "output_type": "stream",
     "text": [
      "[(',', 77717), ('the', 76529), ('.', 65876), ('a', 38106), ('and', 35576), ('of', 34123), ('to', 31937), (\"'\", 30585), ('is', 25195), ('in', 21822), ('s', 18513), ('\"', 17612), ('it', 16107), ('that', 15924), ('-', 15595)]\n",
      "------------\n",
      "253\n"
     ]
    }
   ],
   "source": [
    "all_words = nltk.FreqDist(all_words)\n",
    "print(all_words.most_common(15))\n",
    "print(\"------------\")\n",
    "print(all_words[\"stupid\"]) #lets see how many times a word stupid has occoured"
   ]
  },
  {
   "cell_type": "markdown",
   "metadata": {
    "collapsed": true
   },
   "source": [
    "Converting words to features "
   ]
  },
  {
   "cell_type": "code",
   "execution_count": 11,
   "metadata": {
    "collapsed": true
   },
   "outputs": [],
   "source": [
    "word_features = list(all_words.keys())[:3000]"
   ]
  },
  {
   "cell_type": "code",
   "execution_count": 13,
   "metadata": {
    "collapsed": false
   },
   "outputs": [],
   "source": [
    "def find_features(document):\n",
    "    words = set(document)\n",
    "    features = {}\n",
    "    for w in word_features:\n",
    "        features[w] = (w in words)\n",
    "    return features"
   ]
  },
  {
   "cell_type": "code",
   "execution_count": 15,
   "metadata": {
    "collapsed": false
   },
   "outputs": [
    {
     "name": "stdout",
     "output_type": "stream",
     "text": [
      "{'cardinal': False, 'festive': False, 'cynics': False, 'lavish': False, 'branson': False, 'infiltrate': False, 'brokerage': False, '80s': False, 'pseudo': False, 'urgayle': False, 'hunt': False, 'fiction': False, 'liberated': False, 'relegating': False, 'cassanova': False, 'proponents': False, 'brightness': False, 'mysterty': False, 'directions': False, 'peagreen': False, 'strozzi': False, 'suspensefully': False, 'refinement': False, 'occurrences': False, 'mustered': False, 'shoots': False, 'revised': False, 'sputter': False, 'refinery': False, 'odessa': False, 'accordingly': False, 'extramarital': False, 'lifesaving': False, 'ur': False, 'virtuoso': False, 'speared': False, 'deutch': False, 'heedful': False, 'stacking': False, 'poachers': False, 'keenly': False, 'minimum': False, 'reversal': False, 'ferris': False, 'cartoonist': False, 'conisderation': False, 'potheads': False, 'sherri': False, 'jobson': False, 'geneva': False, 'plucky': False, 'schiffer': False, 'tactics': False, 'armpit': False, 'cereal': False, 'jettisoned': False, 'gatlin': False, 'romane': False, 'plethora': False, 'brags': False, 'benefactor': False, 'fee': False, 'eldest': False, 'offering': True, 'santas': False, 'balsan': False, 'buttons': False, 'whose': False, 'kundun': False, 'fruitless': False, 'toddlers': False, 'massey': False, 'canticle': False, 'runied': False, 'domicile': False, 'cockney': False, 'associate': False, 'badlands': False, 'kerr': False, 'debating': False, 'wizards': False, 'emptiness': False, 'appear': False, 'consequences': False, 'welle': False, 'terrorise': False, 'waded': False, 'mcelhone': False, 'vocabulary': False, 'cockroaches': False, 'giggle': False, 'rediscover': False, 'murdering': False, 'firstly': False, 'madison': False, 'spat': False, 'ringer': False, 'misanthropy': False, 'prices': False, 'echoing': False, 'despite': True, 'tamahori': False, 'reconciles': False, 'hayakawa': False, 'mercifully': False, 'reptilian': False, 'paratroop': False, 'sophia': False, 'hairbrush': False, 'doddering': False, 'doesn9t': False, 'misery': False, 'rawhide': False, 'coldest': False, 'mianders': False, 'finch': False, 'kickboxing': False, 'deconstructed': False, 'hancock': False, 'caddyshack': False, 'ambers': False, 'telling': False, 'perplexed': False, 'prairie': False, 'harm': False, 'mcalisters': False, 'randi': False, 'melvins': False, 'superbly': False, 'badham': False, 'bluntly': False, 'decidedly': False, 'shipwrecked': False, 'observatory': False, 'credit': False, 'snob': False, 'astray': False, 'substance': False, 'theatrics': False, 'shags': False, 'steps': False, 'est': False, 'conspicuously': False, 'trashed': False, 'blackmail': False, 'loach': False, 'machinas': False, 'vegas': False, 'blander': False, 'mc2': False, 'fits': False, 'most': True, 'goodnatured': False, 'nervousness': False, 'wyoming': False, 'partial': False, 'orton': False, 'though': False, 'donation': False, 'freshman': False, 'worsening': False, 'yesterday': False, 'malle': False, 'idolizing': False, 'sur': False, 'windon': False, 'lsd': False, 'honeys': False, 'atomic': False, 'oversimplification': False, 'hytner': False, 'inconsistencies': False, 'charts': False, 'insomnia': False, 'programmer': False, 'rears': False, 'proxies': False, 'undeserved': False, 'clear': False, 'sewn': False, 'karyo': False, 'schwarzneggar': False, 'modulation': False, 'contemplative': False, 'virtuosity': False, 'moulin': False, 'stalls': False, 'emanated': False, 'vacation': False, 'clean': False, 'hypocrite': False, 'antoine': False, 'salesperson': False, 'blindfolded': False, 'mixon': False, 'hackers': False, 'cs': False, 'lunges': False, 'atm': False, 'horne': False, 'grungiest': False, 'muggers': False, 'induced': False, 'collided': False, 'grasping': False, 'blacks': False, 'appalling': False, 'zealot': False, 'intertwined': False, 'occasion': False, '20somethings': False, 'slept': False, 'davies': False, 'dumas': False, 'hapless': False, 'grunts': False, 'jakoby': False, 'mansell': False, 'comeback': False, 'pseudonymous': False, 'highwaymen': False, 'gales': False, 'directionless': False, 'intoning': False, 'brent': False, 'supervise': False, 'trackers': False, 'pointers': False, 'lamely': False, 'chemicals': False, 'initial': False, 'rape': False, 'bombings': False, 'versatility': False, 'pulling': False, 'wrights': False, 'paladru': False, 'captains': False, 'publicly': False, 'armrest': False, 'temporarily': False, 'aug': False, 'sacrificed': False, 'cheech': False, 'codes': False, 'pronounce': False, 'burnham': False, 'lounge': False, 'pursuit': False, 'motley': False, '1913': False, 'northwestern': False, 'nazism': False, 'objectionable': False, 'telltale': False, 'starves': False, 'goads': False, 'riot': False, 'garber': False, 'abu': False, 'divorcee': False, 'researched': False, 'shriek': False, 'leaking': False, 'detatched': False, 'diversion': False, 'schellhardt': False, 'scrawled': False, 'factory': False, 'pandering': False, 'collapse': False, 'slandering': False, 'carradine': False, 'demographics': False, 'diggers': False, 'reissues': False, 'squemish': False, 'miller': False, 'ratzo': False, 'tacky': False, 'substitutions': False, 'fleugel': False, 'protagonist': False, 'dale': False, 'houseboat': False, 'garbageman': False, 'independence': False, 'stacy': False, 'lend': False, 'butchie': False, 'bahamas': False, 'sarajevo': False, 'ob': False, 'tienne': False, 'relegated': False, 'adefarasin': False, 'tortured': False, 'farmhouse': False, 'successes': False, 'met': False, 'seems': True, 'meandering': False, 'single': False, 'stallion': False, 'streets': False, 'active': False, 'raja': False, 'spoils': False, 'neatness': False, 'secession': False, 'courtland': False, 'feuer': False, 'madyline': False, 'ignited': False, 'glare': False, 'shae': False, 'costello': False, 'irreversible': False, 'lengthens': False, 'francisco_': False, 'surveilance': False, 'damages': False, 'chi': False, 'charlatans': False, 'ruthlessness': False, 'otherness': False, 'roundish': False, 'lawford': False, 'saxophone': False, 'chameleonic': False, 'tearing': False, 'lubricants': False, 'honkey': False, 'hippo': False, 'mlakovich': False, 'glacier': False, 'portentous': False, 'renovated': False, 'desire': False, 'summit': False, 'temperature': False, 'dilbert': False, 'saddles': False, 'drixenol': False, 'aquire': False, 'daytime': False, 'throw': False, 'hack': False, 'mozzell': False, 'richly': False, 'fills': False, 'euuugh': False, 'minded': False, 'juliette': False, 'photographed': False, 'butoy': False, 'finesse': False, 'bianca': False, 'options': False, 'oxygen': False, 'hybridizes': False, 'stalkers': False, 'stirs': False, 'dispare': False, 'ash': False, 'patty': False, 'rendell': False, 'unruly': False, 'costing': False, 'latent': False, 'look': True, 'undercurrents': False, 'inventions': False, 'recommeded': False, 'hutter': False, 'leguizimo': False, 'seminal': False, 'talk': False, 'immediacy': False, 'begging': False, 'expections': False, 'brotherhood': False, 'picked': False, 'luigi': False, 'announcement': False, 'teeters': False, 'increases': False, 'kerdelhue': False, 'reassure': False, 'chittering': False, 'binge': False, 'wells': False, 'resistibility': False, 'rum': False, 'wachowskis': False, 'memorably': False, 'kubrickesque': False, 'feces': False, 'faculty': False, 'codenamed': False, 'dementia': False, 'vincenzo': False, 'amrriage': False, 'misirables': False, 'garr': False, 'soldini': False, 'homey': False, 'zukovsky': False, 'unfailingly': False, 'steakley': False, 'filleted': False, 'conversations': False, 'midnight': False, 'grammar': False, 'fiel': False, 'coure': False, 'ladder': False, 'betters': False, 'bunyans': False, 'weaknesses': False, 'jamileh': False, 'constellation': False, 'charizard': False, 'boarded': False, '1791': False, 'madigan': False, 'cumming': False, 'strut': False, 'couriers': False, 'shlock': False, 'dwells': False, 'postcard': False, 'foreman': False, 'territories': False, 'bears': False, 'flatulence': False, 'obstetrician': False, 'impassioned': False, 'adopts': False, 'inhibit': False, 'hippie': False, 'hunks': False, 'every': True, 'pinch': False, 'guano': False, 'stairwell': False, 'wences': False, 'smartest': False, 'untalented': False, 'lts': False, 'detonation': False, 'encapsulates': False, 'doorman': False, 'diego': False, 'sources': False, 'nymphet': False, 'faction': False, 'cerrano': False, 'rohmer': False, 'charges': False, 'maguire': False, 'ulterior': False, 'politicos': False, 'perils': False, 'porting': False, 'communicates': False, 'scrutinize': False, 'weitz': False, 'organize': False, 'raving': False, 'winking': False, 'zeljko': False, 'meloncholy': False, 'ghosts': False, 'molecules': False, 'corruptive': False, 'supplement': False, 'tenacity': False, 'conglomeration': False, 'graystoke': False, 'diplomatic': False, 'inferiority': False, 'penetrate': False, 'childlike': False, 'minnesota': False, 'stung': False, 'jealous': False, 'profundis': False, 'anything': False, 'disabled': False, 'raffin': False, 'rina': False, 'wolf': False, 'sailor': False, 'exterminators': False, 'tortoise': False, 'wittier': False, 'wreaks': False, 'grunted': False, 'aaaahhhs': False, 'leboswki': False, 'curtain': False, 'bombastically': False, 'shies': False, 'raindrops': False, 'jawed': False, 'basically': False, 'positioned': False, '14th': False, 'hamill': False, 'strode': False, '_a': False, 'query': False, 'mired': False, 'snitch': False, 'ramboids': False, 'suicidal': False, 'stabilize': False, 'cracker': False, 'faulty': False, 'thine': False, '70': False, 'unconnectedness': False, 'tho': False, 'artiste': False, 'demo': False, 'barring': False, 'overnight': False, 'transfer': False, 'chisholm': False, 'tavington': False, 'eugene': False, 'humbert': False, 'suites': False, 'relished': False, 'honk': False, 'stunt': False, 'button': False, 'generalizations': False, 'amistad': False, 'mcfadden': False, 'slavic': False, 'rocque': False, 'yogi': False, 'pernilla': False, 'bargain': False, 'schell': False, 'surpasses': False, 'minute': False, 'naughton': False, 'candidates': False, 'togethers': False, 'husbands': False, 'enchant': False, 'insane': False, 'copes': False, 'measure': False, 'naunton': False, 'tickle': False, 'bypassed': False, 'daffy': False, 'stagnant': False, 'outrageously': False, 'ejected': False, 'bizarro': False, 'cheeked': False, 'sculpted': False, '1896': False, 'davin': False, 'rises': False, 'sticks': False, 'katharine': False, 'suspense': False, 'probing': False, 'curtail': False, 'succumb': False, 'madio': False, 'fortenberry': False, 'kerri': False, 'lawernce': False, 'lieutenant': False, 'bailing': False, 'unsuspecting': False, 'ro': False, 'copasetic': False, 'spoonfuls': False, 'infuriates': False, 'myths': False, 'aswell': False, 'continued': False, 'scarab': False, 'cancer': False, 'burners': False, 'mannequins': False, 'stitch': False, 'rice': False, '{': False, 'samo': False, 'stieger': False, 'unobtrusive': False, 'wrongness': False, 'crave': False, 'saunder': False, 'giovanni': False, 'awry': False, 'manipulate': False, 'incredibility': False, 'totter': False, 'quasi': False, 'sexuality': False, 'lynched': False, 'docked': False, 'writers': False, 'anne': False, 'cdc': False, 'color': False, 'infection': False, 'herded': False, 'beast': False, 'waft': False, 'trick': False, 'grins': False, 'palladium': False, 'bertolini': False, 'pumping': False, 'tomfoolery': False, 'mcnugent': False, 'islam': False, 'embroils': False, 'hallmark': False, 'unerotic': False, 'snarf': False, 'audience': True, 'roomm': False, 'stepfather': False, 'tsavo': False, 'attempts': False, 'theatrical': False, 'exacerbates': False, 'barnyard': False, 'working': False, 'aol': False, 'intimidating': False, 'devastated': False, 'gaudy': False, 'backfire': False, 'munsters': False, 'kleiser': False, 'hillary': False, 'bruckheimer': False, 'gumshoe': False, 'smirk': False, 'poisoning': False, '7th': False, 'k9': False, 'gruff': False, 'ceremonies': False, 'goldeneye': False, 'batarang': False, 'share': False, 'profiler': False, 'zakharov': False, 'coherence': False, 'westlake': False, '_disturbing_behavior_': False, 'eclectic': False, 'hua': False, 'kieslowski': False, 'presenting': False, 'mexican': False, 'imposed': False, 'opening': False, 'trigger': False, 'treasury': False, 'tolerable': False, 'pulse': False, 'elena': False, 'mist': False, 'misrepresenting': False, 'procedure': False, 'supermodel': False, 'led': False, 'inevitably': False, 'nitty': False, 'lock': False, 'feisty': False, 'gossamer': False, 'ney': False, 'scrambling': False, 'cable': False, 'parched': False, 'proven': False, 'studded': False, 'capshaw': False, 'vibe': False, 'juices': False, 'dreadlocks': False, 'boy': False, 'rawness': False, 'bran': False, 'dill': False, 'gentleness': False, 'summaries': False, 'cradle': False, 'mostly': False, 'retinal': False, 'flooded': False, 'spinal': False, 'victorian': False, 'henstridge': False, 'crossan': False, 'unsurprisingly': False, 'poor': False, 'lux': False, 'comte': False, 'divided': False, 'autobiography': False, 'hart': False, 'sneer': False, 'song': False, '34th': False, 'borrow': False, 'coated': False, 'etienne': False, 'nass': False, 'rutheford': False, 'scatalogical': False, 'unpredictability': False, 'imperial': False, 'prancer': False, 'minority': False, 'nikki': False, 'wittedness': False, 'nolte': False, 'experiencing': False, 'adherence': False, 'gutsy': False, 'rama': False, 'drank': False, 'wormwood': False, 'wresting': False, 'guidance': False, 'rituals': False, 'escapes': False, 'emotive': False, 'bernhard': False, 'cleansing': False, 'deliveries': False, 'adept': False, 'singlehandedly': False, 'novel': False, 'mcmanus': False, 'pronunciation': False, 'chutes': False, 'complexity': False, 'sirens': False, 'sullenly': False, 'absurdism': False, 'horny': False, 'alaska': False, 'tasted': False, 'professory': False, 'ads': False, '30m': False, 'paperthin': False, '_polish_wedding_': False, 'stoker': False, 'abundant': False, 'browne': False, 'passangers': False, 'attached': False, 'spike': False, 'fallon': False, 'deviance': False, 'lures': False, 'labyrinth': False, 'thomson': False, 'samurai': False, 'oh': True, 'puberty': False, 'intention': False, '10': True, 'invisible': False, 'genital': False, 'houser': False, 'biederman': False, 'sykes': False, 'hunk': False, 'prizefighted': False, 'inopportune': False, 'savoring': False, 'upgrades': False, 'doesn': True, 'fastest': False, 'roam': False, 'derek': False, '__________________________________________________________': False, 'cycle': False, 'towers': False, 'grogan': False, ')': True, 'pooches': False, 'astros': False, 'conscript': False, 'coke': False, 'osmosis': False, 'moderator': False, 'thrillerism': False, 'princess': False, 'lauren': False, 'rough': False, 'rocketeer': False, 'war': False, 'coolness': False, 'code': False, 'emotions': False, '1830s': False, 'ketchum': False, 'handily': False, 'emma': False, 'overpaid': False, 'yo': False, 'atom': False, 'sleezebag': False, 'murderer': False, 'plotting': False, 'lifestyle': False, '2020': False, 'egar': False, 'draping': False, 'motormouth': False, 'cradles': False, 'lia': False, 'cpw': False, 'nutritional': False, 'conflict': False, 'greediness': False, 'crab': False, 'nice': False, 'abbe': False, 'mcdonald': False, 'skinned': False, 'transvestites': False, 'clooney': False, 'lucas': False, 'nonchalant': False, 'rivka': False, 'disenchanted': False, 'inconveniences': False, 'xiii': False, 'flowers': False, 'phantastic': False, 'backwords': False, 'eyesight': False, 'x': False, 'instructors': False, 'effects': False, 'wahoo': False, 'extended': False, 'heinous': False, 'northward': False, 'crackles': False, 'weirdo': False, 'enterprise': False, 'squaring': False, 'marvels': False, 'whimpering': False, 'batterings': False, '98': False, 'era': False, 'quirkiness': False, 'hustle': False, 'amorality': False, 'instant': False, 'contemptable': False, 'december': False, 'catastrophes': False, 'clothesline': False, 'tarnished': False, 'set': False, 'fig': False, 'breezy': False, 'adoption': False, 'families': False, 'disastorous': False, 'nyc': False, 'electromagnetic': False, 'infamous': False, 'hysterics': False, 'sentimentalized': False, 'walked': False, 'meant': False, 'campily': False, 'armani': False, 'janis': False, 'escaping': False, 'usher': False, 'rewound': False, 'moviegoer': False, 'attentiveness': False, '31': False, 'swishing': False, 'cycles': False, 'eats': False, 'marches': False, 'dolby': False, 'unspoken': False, 'diminutive': False, 'wallpaperer': False, 'christened': False, 'hanna': False, 'scriptiing': False, 'zdenek': False, 'murderers': False, 'fruity': False, 'spicebus': False, 'seize': False, 'judgement': False, 'transfixed': False, 'mammals': False, 'saturated': False, 'fade': False, 'atrophied': False, 'cornell': False, 'loyalist': False, 'helmet': False, 'hobbits': False, 'intially': False, 'hypothalamii': False, 'overflying': False, 'instalment': False, 'clawing': False, 'ineptness': False, 'anders': False, 'rule': False, 'toughs': False, 'klieg': False, 'arizona': False, 'mentioned': False, 'underscoring': False, 'picker': False, 'cinderella': False, 'facher': False, 'appendaged': False, 'male': False, 'queen': False, 'afoul': False, 'coco': False, 'amounts': False, 'overworking': False, 'become': False, 'dandy': False, 'superimposed': False, 'pinnacle': False, 'lawnmowers': False, 'senseless': False, 'temping': False, 'blatherings': False, 'filipino': False, 'overdramaticizes': False, 'sez': False, 'volcanoes': False, 'abandoned': False, 'sweat': False, 'donor': False, 'gaetan': False, 'pizzas': False, 'died': False, 'aa': False, 'ravel': False, 'stoned': False, 'promoters': False, 'shatter': False, 'patriotic': False, 'sheep': False, 'manslaughterer': False, 'sofia': False, 'finding': False, 'fires': False, 'hankering': False, 'unlock': False, 'wryly': False, 'becomes': False, 'jennifer': False, 'legend_': False, 'milius': False, 'fragile': False, 'memorizing': False, 'topped': False, 'penetrated': False, 'edson': False, 'blanket': False, 'grays': False, 'haddad': False, 'reach': False, 'americanized': False, 'guerrilla': False, 'hanly': False, 'airline': False, 'stereoscopic': False, '6': False, 'repeating': False, 'bow': False, 'flashing': False, 'drops': False, 'instills': False, 'wingers': False, 'gazing': False, 'argo': False, 'folklore': False, 'mede': False, 'enigma': False, 'pounds': False, 'rudy': False, 'finley': False, 'cinema': False, 'angers': False, 'cadets': False, 'superweapon': False, 'donatelli': False, 'gourmet': False, 'expound': False, 'taj': False, 'flik': False, 'queasy': False, 'integrated': False, 'misplaced': False, 'files': False, 'cellmate': False, 'devour': False, 'gould': False, 'palatial': False, 'outsiders': False, 'lohan': False, 'collars': False, 'spaniard': False, 'tested': False, 'pantucci': False, 'unwelcomed': False, 'proposals': False, 'fullest': False, 'have': True, 'specials': False, 'impervious': False, 'proportionate': False, 'inflection': False, 'yoram': False, 'dynamics': False, 'animated': False, 'rename': False, 'holed': False, 'buck': False, 'cuddly': False, 'purse': False, 'matsumoto': False, 'witches': False, 'burnett': False, 'bunton': False, 'hughley': False, 'incubator': False, 'willson': False, 'massachusetts': False, 'bulging': False, 'venturing': False, 'transcending': False, 'disguises': False, 'enwrapped': False, 'inevitability': False, 'elevates': False, 'oversees': False, 'small': False, 'ray': False, 'slop': False, 'computers': False, 'missy': False, 'villard': False, 'mayo': False, 'masterfully': False, 'skateboard': False, 'works': False, 'portobello': False, 'reiser': False, 'rejecting': False, 'delivery': False, 'horrific': False, 'tropps': False, 'intermingle': False, 'screenwriterly': False, 'anecdote': False, 'vinci': False, 'downbeat': False, 'underrated': False, 'satisfaction': False, 'researches': False, 'tantrums': False, 'cannon': False, 'humans': False, 'giggles': False, 'commentaries': False, 'uplifted': False, 'glamour': False, 'shon': False, 'alienates': False, 'domino': False, 'swooping': False, 'coo': False, 'singh': False, 'mckenney': False, 'ankles': False, 'kinetic': False, 'thom': False, 'preciously': False, 'recently': False, 'lucrative': False, 'adversaries': False, 'entendres': False, 'migrant': False, 'fritter': False, 'miscommunicated': False, 'micheal': False, 'looted': False, 'groovy': False, 'tourniquet': False, 'tale': False, 'ribbon': False, 'newmar': False, 'right': False, 'continues': True, 'concerns': False, 'nsa': False, 'shock': False, 'lived': False, 'negative': False, 'fuhrer': False, 'walks': False, 'pentecostal': False, 'critiques': False, 'cherokee': False, 'justify': False, 'privately': False, 'aptitude': False, 'bait': False, 'homeboys': False, 'catchy': False, 'billboard': False, 'establishing': False, 'ambient': False, 'eyed': False, 'airplay': False, 'varying': False, 'schmaltziness': False, 'geri': False, 'bastardizations': False, 'uncontrollable': False, 'closeups': False, 'scriptures': False, 'bared': False, 'eggo': False, 'talkies': False, 'shpadoinkle': False, 'foams': False, 'reared': False, 'robbery': False, 'picturesque': False, 'refuting': False, 'wipe': False, 'doss': False, 'bird': False, 'equated': False, 'behalf': False, 'travolta': False, 'zzzzzzz': False, 'gyrations': False, 'braggarts': False, 'postage': False, 'hand': False, '135': False, 'rabbi': False, 'involuntary': False, 'dialogueless': False, 'blackwell': False, 'spooky': False, 'ages': False, 'werner': False, 'bolstered': False, 'anarchy': False, 'accounts': False, 'counterfeit': False, 'tooling': False, 'poise': False, 'diddley': False, '_54_': False, 'jerry': False, 'urbano': False, 'discernible': False, 'forecast': False, 'hadden': False, 'antiseptic': False, 'sexual': False, 'paget': False, 'kindly': False, 'finished': False, 'awake': False, 'condemning': False, 'sadie': False, 'bumpers': False, 'renoly': False, 'mystify': False, 'yeoh': False, 'outing': False, 'distanced': False, 'copious': False, 'happy': False, 'noraruth': False, 'sonic': False, 'bet': False, 'griebe': False, 'dakinah': False, 'strikes': False, 'stranglehold': False, 'seedy': False, 'mullen': False, 'trustworthy': False, 'gilligan': False, 'taxation': False, 'obscured': False, 'bad': True, 'hypnotises': False, 'radius': False, 'tightened': False, 'balthazar': False, 'bulgaria': False, 'weighty': False, 'ferrera': False, 'fatherly': False, 'novelistic': False, 'longstreet': False, 'buntaro': False, 'labelled': False, 'like': True, 'swayze': False, 'unnecessary': False, 'brawley': False, 'donors': False, 'stuttering': False, 'irons': False, '20': True, 'slower': False, 'intricate': False, 'content': False, 'shapeless': False, 'pitchman': False, 'havoc': False, 'watchdog': False, 'tutors': False, 'bai': False, 'mold': True, 'hab': False, 'focker': False, 'translators': False, 'deaf': False, 'safina': False, 'commensurately': False, 'triplets': False, 'amends': False, 'whoah': False, 'extremel': False, 'accident': True, 'chia': False, 'excercise': False, 'bower': False, 'burnell': False, 'scampering': False, 'understatement': False, 'dung': False, 'foyle': False, 'jannsen': False, 'bumblebee': False, 'do': True, 'filled': False, 'visiting': False, 'cripple': False, 'summa': False, 'crackdown': False, 'but': True, 'benevolent': False, 'quincey': False, 'rosso': False, 'botch': False, 'underway': False, 'fennymann': False, 'integrating': False, 'isn': False, 'tapeheads': False, 'penthouse': False, 'unmade': False, 'hotshot': False, 'groomed': False, 'stallions': False, 'disk': False, 'illicitly': False, 'dexterity': False, 'received': False, 'launch': False, 'cheesily': False, 'breeth': False, 'fixedly': False, 'renting': False, 'voids': False, 'pratfalls': False, 'plagiarize': False, 'cretin': False, 'ephrons': False, 'transmitting': False, 'sportscar': False, 'hosts': False, 'shanghai': False, 'colisseum': False, 'sensitivity': False, 'ioan': False, 'paralyzed': False, 'touting': False, 'kristen': False, 'outer': False, 'allred': False, 'depalma': False, 'cathedrals': False, 'blithe': False, 'depth': False, 'einstein': False, 'clashing': False, 'tread': False, 'elfont': False, 'czechoslovakia': False, 'draco': False, 'screwed': False, 'poopies': False, 'superglues': False, 'personify': False, 'lending': False, 'organizes': False, 'debutante': False, 'demolition': False, 'lee': False, 'backtracks': False, 'jubilantly': False, 'harpoons': False, 'overconfident': False, 'rail': False, 'glasses': False, 'whining': False, 'underwhelmed': False, 'cinnamon': False, 'spelled': False, 'aviator': False, 'mission': False, 'hav': False, 'sprinkles': False, 'agents': False, 'koop': False, 'unimaginatve': False, 'seagulls': False, 'novels': False, 'spatial': False, 'data': False, 'annihilation': False, 'herger': False, 'soth': False, 'gravedigging': False, 'unexpectedly': False, 'resonance': False, 'lascivious': False, 'napping': False, 'shivery': False, 'humiliate': False, 'taming': False, 'keeper': False, 'counterculture': False, 'theremin': False, 'stitched': False, 'prix': False, 'carelesness': False, 'indian': False, 'afer': False, 'elmore': False, 'bostwick': False, 'indiglo': False, 'building': False, 'digits': False, 'simplicity': False, 'conciliatory': False, 'dollar': False, 'bangs': False, 'ferrer': False, 'quartet': False, 'sweetness': False, 'sailboat': False, 'stanley': False, 'gags': False, 'guard': False, 'jousting': False, 'sheffield': False, 'satirical': False, 'lesser': False, 'malfunctioning': False, 'strung': False, 'pendel': False, 'dostoyevski': False, 'pride': False, 'curly': False, 'workman': False, 'ulee': False, 'lemme': False, 'maya': False, 'bondage': False, 'adolf': False, 'feign': False, 'risk': False, 'weinberger': False, 'horesback': False, 'spoil': False, 'unimaginable': False, 'dropouts': False, 'playfulness': False, 'julian': False, 'kahl': False, 'nobodies': False, 'crapper': False, 'assuming': True, 'transexual': False, 'caligula': False, 'neumann': False, 'shoot': False, 'amongst': False, 'inconclusive': False, 'bayou': False, 'drew': False, 'rainforest': False, 'thrillers': False, 'poodle': False, 'pint': False, 'sentient': False, 'gratuitously': False, 'loathes': False, 'cheapie': False, 'wiest': False, 'tormentor': False, 'armed': False, 'apted': False, '_matewan_': False, 'repair': False, 'scratching': False, 'assedly': False, 'scripters': False, 'discoverers': False, 'invasion': False, 'implying': False, 'ig': False, 'gravity': False, 'quatermass': False, 'peploe': False, 'judging': False, 'byrd': False, 'herve': False, 'packin': False, 'accommodations': False, 'engineered': False, 'abounding': False, 'yanni': False, 'distinction': False, 'caldicott': False, 'blissfully': False, 'intentional': False, 'overhead': False, 'widespread': False, 'caste': False, 'bullyness': False, '999': False, 'shakespearian': False, 'mumbled': False, 'swan': False, 'skyscrapers': False, 'slobbering': False, 'incongruity': False, 'bink': False, 'ebola': False, 'rocked': False, 'soars': False, 'franklin': False, 'bentley': True, 'bakalian': False, 'bumblings': False, 'affiliations': False, 'laurentiis': False, 'nc': False, 'stomachs': False, 'android': False, 'hideously': False, 'implausibility': False, 'blueblood': False, 'naaaaah': False, 'textured': False, 'supernatural': False, 'admitedly': False, 'wether': False, 'sacred': False, 'scrutiny': False, 'radioactivity': False, 'tidyman': False, 'bloodless': False, 'presences': False, 'fin': False, 'swordfishing': False, 'childdhood': False, 'mansfield': False, 'focus': False, 'wwii': False, 'counfound': False, 'reader': False, 'bandies': False, 'nod': False, 'pankow': False, 'hemp': False, 'undone': False, 'wah': False, 'motel': False, 'thrower': False, 'shacks': False, 'nonplused': False, 'slickly': False, 'camcorder': False, 'field': False, 'nailed': False, 'headley': False, 'celebrations': False, 'athleticism': False, 'gerrard': False, 'busted': False, 'unleashed': False, 'captivates': False, 'moses': False, 'wreak': False, 'nadja': False, 'spokesperson': False, 'bmw': False, 'hooey': False, 'risque': False, 'flown': False, 'environment': False, 'smiths': False, 'congressional': False, 'mentionable': False, 'tentacle': False, 'heritage': False, 'fates': False, 'sarone': False, 'brushstrokes': False, 'hookers': False, 'queued': False, 'sadistically': False, 'boogie': False, 'snails': False, 'charitable': False, 'pursuing': False, 'korshonov': False, 'palatable': False, 'hammers': False, 'extremely': False, 'psychlos': False, 'rza': False, 'plan': False, 'watts': False, 'poisonous': False, 'devolved': False, 'departed': False, 'iffy': False, 'katzenberg': False, 'robby': False, 'many': False, 'miracle': False, 'companion': False, 'sea': False, 'junction': False, 'deriving': False, 'epiphanies': False, 'dorff': False, 'mandrian': False, 'uploaded': False, 'necronomicon': False, 'knights': False, 'intensive': False, 'laughfests': False, 'matriarch': False, 'liberating': False, 'fabled': False, 'fry': False, 'gyllenhall': False, 'empath': False, 'airwolf': False, 'inexorably': False, 'hui': False, 'hangout': False, 'captured': False, 'kilborn': False, 'harnessed': False, 'shane': False, 'seahaven': False, 'stinkiest': False, 'dated': False, 'gleam': False, 'sojourn': False, 'buries': False, 'schrieber': False, 'greyhound': False, 'vertigo': False, 'arnie': False, '115': False, 'nutcracker': False, 'confidently': False, 'panic': False, 'dissection': False, 'reassuring': False, 'escher': False, 'explodes': False, 'sans': False, 'prima': False, 'executions': False, 'rantings': False, 'bushel': False, 'stewart': False, 'laurene': False, 'jia': False, 'gestapo': False, '200': False, 'shelmickedmu': False, 'stands': False, 'gurus': False, 'vips': False, 'hollow': False, 'unit': False, 'intersperesed': False, 'courts': False, 'artiness': False, 'sugarplums': False, 'molesting': False, 'donning': False, 'populist': False, 'particularly': False, 'absurdist': False, 'portals': False, 'perfuctory': False, 'scrutinized': False, 'helplessly': False, 'questions': False, 'persian': False, 'loading': False, 'reginald': False, 'merge': False, 'swashbuckler': False, 'extemely': False, 'chintzy': False, 'wart': False, 'overarching': False, 'loudmouthed': False, 'imax': False, 'removed': False, 'macfadyen': False, 'retriever': False, 'foam': False, 'natured': False, 'preppie': False, 'transports': False, 'unconvincing': False, 'lu': False, 'woeful': False, 'dallied': False, 'toller': False, 'sunlight': False, 'inoffensive': False, 'mistrust': False, 'definitive': False, 'descended': False, 'repaint': False, 'catfights': False, 'geographical': False, 'wondered': False, 'zwigoff': False, 'suspiria': False, 'values': False, 'reoccurrence': False, 'charleville': False, 'matchmakers': False, 'allegory': False, 'mekhi': False, 'douchebag': False, 'accosts': False, 'chronicle': False, 'barracades': False, 'absolution': False, 'repulsion': False, 'rumoured': False, '_mind': False, 'walled': False, 'favorite': False, 'rivaled': False, 'winkless': False, '_andre_': False, 'droopy': False, 'abysmal': False, 'lieu': False, 'diffusing': False, 'cemented': False, 'harvests': False, 'seep': False, 'williams': False, 'glimpse': False, 'consequently': False, 'londoner': False, 'unjust': False, 'consoling': False, 'restoration': False, 'permutations': False, 'lantos': False, 'lighted': False, 'whereas': False, 'geometry': False, 'duh': False, 'despondence': False, 'revived': False, 'emporer': False, 'southampton': False, 'nothin': False, 'dare': False, 'legit': False, 'howling': False, 'headline': False, 'emissary': False, 'sil': False, 'stickell': False, 'count': False, 'sect': False, 'snapped': False, 'emmannuelle': False, 'custody': False, 'sam': False, 'deconstructs': False, 'uninvolivng': False, 'procuring': False, 'facilitate': False, 'nada': False, 'testicular': False, 'kendrick': False, 'warming': False, 'bewonderment': False, 'loosest': False, 'dreyfus': False, 'perks': False, 'anthropomorphized': False, 'burned': False, 'shroff': False, 'obligingly': False, 'trendiness': False, 'rate': False, 'entity': False, 'kurtz': False, 'evaluating': False, 'heartfelt': False, 'nationwide': False, 'collapsed': False, 'alfie': False, 'parlor': False, 'collected': False, 'mtv': False, 'pumma': False, 'daisies': False, 'ponytails': False, 'kihlstedt': False, 'strom': False, 'cesar': False, 'squint': False, 'sourabaya': False, 'aurore': False, 'aaliyah': False, 'thrice': False, 'genocide': False, 'tasting': False, 'lashes': False, 'snore': False, 'planing': False, 'tips': False, 'debut': False, 'wind': False, 'billowy': False, 'credo': False, 'fuller': False, 'karma': False, 'enticed': False, 'balasko': False, 'noxzema': False, 'weathers': False, 'posts': False, 'daresay': False, 'firm': False, 'pups': False, 'stater': False, 'chereau': False, 'months': False, 'arming': False, 'bandaged': False, 'hitchhiker': False, 'hackford': False, 'spelling': False, 'workings': False, 'harkens': False, 'id4': False, 'strangulation': False, 'radioactive': False, 'underscores': False, 'its': True, 'preserve': False, 'downloading': False, 'brasco': False, 'souring': False, 'fernando': False, 'rules': False, 'ferrara': False, 'stall': False, 'arent': False, 'fencing': False, 'sizzles': False, 'earthbound': False, 'preposterous': False, 'arouse': False, 'schoolchild': False, 'excessive': False, 'reccomending': False, 'aberdeen': False, 'bonehead': False, 'throaty': False, 'crouse': False, 'listener': False, 'connects': False, 'season': False, 'vanishes': False, '1949': False, 'declared': False, 'gingerbread': False, 'users': False, 'flushing': False, 'progressing': False, 'crocs': False, 'ranging': False, 'polluted': False, 'cornelius': False, 'scanners': False, 'wrinkled': False, 'shaped': False, 'helena': False, 'terrance': False, 'figueroa': False, 'nbc': False, 'dependent': False, 'ginter': False, 'ticketed': False, 'hampshire': False, 'scene': False, 'gamely': False, 'built': False, 'grabbing': False, 'ponderously': False, 'discovered': False, 'staff': False, 'gershwin': False, 'together': False, 'dodges': False, 'stewards': False, 'deprived': False, 'referenced': False, 'boob': False, 'quebec': False, 'aide': False, 'enforcer': False, 'technicalities': False, 'litter': False, 'ibanez': False, 'nurture': False, 'reiner': False, 'english': False, 'braeden': False, 'disneyish': False, 'merrick': False, 'dangereuses': False, 'ginty': False, 'grossed': False, 'differently': False, 'drought': False, 'expired': False, 'reunion': False, 'consultants': False, 'presence': False, 'recycling': False, 'releases': False, 'avenged': False, 'proves': False, 'carriages': False, 'legitimize': False, 'downshifts': True, 'queries': False, 'multitude': False, 'mccoll': False, 'handedness': False, 'hughton': False, 'imagining': False, 'leeloo': False, 'hunts': False, 'taguchi': False, 'ripley': False, 'pronouncements': False, 'overseeing': False, 'cheng': False, 'rooted': False, 'gloating': False, '1865': False, 'crudely': False, 'circuits': False, 'alcoholics': False, 'impotence': False, 'dysfunctional': False, 'geese': False, 'macleane': False, 'shogun': False, 'moustached': False, 'permanently': False, 'maternity': False, 'morosely': False, 'oogie': False, 'pun': False, 'eastwick': False, 'trekked': False, 'farquaads': False, 'piffle': False, 'certifiable': False, 'pensively': False, 'deliberately': False, 'stevens': False, 'mcbride': False, 'sputtering': False, 'bath': False, 'casted': False, 'businessman': False, 'reaffirming': False, 'spend': False, 'dismember': False, 'eyebrows': False, 'rogues': False, 'offends': False, 'splittingly': False, 'witty': False, 'leading': False, 'iniquitous': False, 'gordan': False, 'premise': False, '_brazil_': False, 'streetwalker': False, 'pew': False, 'stump': False, 'strides': False, 'psychoanalyze': False, 'arise': False, 'sobol': False, 'magnolia': False, 'yucky': False, 'grimy': False, 'irregular': False, 'climax': False, 'exceptionally': False, 'portal': False, 'migrated': False, 'pentathol': False, 'underwent': False, '_in': False, 'stunk': False, '4am': False, 'creaky': False, 'elected': False, 'misunderstanding': False, 'thud': False, 'hid': False, 'permeates': False, 'united': False, 'contort': False, 'suffocates': False, 'subtley': False, 'interupts': False, 'lazard': False, 'appendages': False, 'partygoers': False, 'ziegler': False, 'lowenstein': False, 'alexandre': False, 'live_': False, 'fortunate': False, 'excellence': False, 'meteor': False, 'frantic': False, 'humanly': False, 'homeys': False, 'mockery': False, 'packages': False, 'flanery': False, 'nothing': False, 'funky': False, 'lolita': False, 'appellation': False, 'whippersnappers': False, 'drawers': False, 'jaw': False, 'conspiracies': False, 'palitaliano': False, 'evenhanded': False, 'quote': False, 'irascible': False, 'registers': False, 'pained': False, 'anchorman': False, 'jackson': False, 'coolio': False, 'simplying': False, 'immersion': False, 'vacationing': False, 'tarantino': False, 'geologist': False, 'wades': False, 'virtues': False, 'dominio': False, '50': False, 'linc': False, 'hulke': False, 'hemming': False, 'anita': False, 'praising': False, 'centuryinter': False, 'nominatored': False, '93': False, 'elucidate': False, 'ragtop': False, 'ripped': False, 'riegert': False, 'commensurate': False, 'confidante': False, 'griffith': False, 'datalink': False, 'bedpost': False, 'speeds': False, 'breakin': False, 'destruction': False, 'honour': False, 'guffaw': False, 'delinquent': False, 'conscription': False, 'longingly': False, 'alter': False, 'spirit': False, 'unarmed': False, 'qualifying': False, 'tinseltown': False, 'seaside': False, 'hackles': False, 'clutter': False, 'plenty': False, 'harvey': False, 'stormtroopers': False, 'transference': False, 'fingal': False, 'skunk': False, 'blurred': False, 'hinds': False, 'irradiation': False, 'archetype': False, 'skits': False, 'himalayas': False, 'viscous': False, 'chemically': False, 'points': False, 'pilot': False, 'dodging': False, 'blimp': False, 'tachometer': False, '1930s': False, 'chocolat': False, 'whips': False, 'geographically': False, 'schooled': False, 'returning': False, 'selective': False, 'priorities': False, 'unsatisying': False, 'testimonials': False, 'chipmunks': False, 'dwindle': False, 'zane': False, 'letter': False, 'sausalito': False, 'ankh': False, 'snorks': False, 'inhabitants': False, 'leblanc': False, 'ordering': False, 'bazooka': False, 'muddle': False, 'huge': False, 'investigation': False, 'broadcaster': False, 'moonstruck': False, 'monkeys': False, 'prizes': False, 'merchandise': False, 'bandmate': False, 'unable': False, 'stanwyck': False, 'hildyard': False, 'race': False, 'vh1': False, 'sponsorship': False, 'frederick': False, 'chernobyl': False, 'taylor': False, 'felines': False, 'blink': False, 'aggrivate': False, 'submits': False, 'nita': False, 'inconspicuously': False, 'drivel': False, 'cub': False, 'brake': False, 'stagy': False, 'sumptuous': False, 'fascism': False, 'jerod': False, 'oppressing': False, 'briefly': False, 'rewarding': False, 'pileggi': False, 'magda': False, 'nostromo': False, 'limply': False, 'sky_': False, 'distorts': False, 'proximity': False, 'rubell': False, 'dysfunctionality': False, 'underwritten': False, 'ogle': False, 'delro': False, 'hangover': False, 'macho': False, 'bulworth': False, 'jammed': False, 'inhumanity': False, 'mambos': False, 'showbusiness': False, 'shoved': False, 'bitching': False, '144': False, 'relate': False, 'dimensionality': False, 'lineman': False, 'crewmates': False, 'shirt': False, 'instigated': False, 'hundreds': False, 'swamp': False, 'neo': False, 'dalmatians': False, 'beforehand': False, 'sleek': False, 'track': False, 'apex': False, 'simpsons': False, '_shaft': False, 'pidgeon': False, 'gimmicks': False, 'beauty': True, 'telemarketer': False, 'calendar': False, 'roots': False, 'lana': False, 'crocheting': False, 'landslide': False, 'horsing': False, 'dignified': False, 'remission': False, 'thieve': False, 'rutger': False, 'youngsters': False, 'comedy': False, 'food': False, 'walk': False, 'takers': False, 'arbogast': False, 'guzman': False, 'reiter': False, 'freely': False, 'motions': False, 'vassili': False, 'listeners': False, 'minbo': False, 'outrun': False, 'nighthawks': False, 'electrocution': False, 'dante': False, 'troublesome': False, 'relating': False, 'leagues': False, 'objected': False, 'nikon': False, 'pumpkins': False, 'ture': False, 'ocmic': False, 'malaise': False, 'mirrors': False, 'interferred': False, 'esophagus': False, 'i': True, 'laguna': False, 'thicker': False, 'hampton': False, 'reprisal': False, 'trait': False, 'hawk': False, 'infects': False, 'yarn': False, 'technically': False, 'wills': False, 'hatchette': False, 'rampaging': False, 'tacked': False, 'upmost': False, 'depreciating': False, 'assisted': False, 'ideological': False, 'matters': False, 'cheryl': False, 'distortion': False, 'comprehending': False, 'place': False, 'bugs': False, 'staros': False, 'impacted': False, 'preys': False, 'appropriate': False, 'mistakes': False, 'ramble': False, 'shear': False, 'foot': False, 'opaque': False, 'shackled': False, 'beheadings': False, 'contrasts': False, 'thanksgiving': False, 'homophobic': False, 'barnes': False, 'indigenous': False, 'childbirth': False, 'lacked': False, 'unnerrving': False, 'cross': False, 'calais': False, 'honesty': False, 'timothy': False, 'incidents': False, 'zealously': False, 'helmer': False, 'criticize': False, 'brighten': False, 'buddhism': False, 'wildest': False, 'bayouesque': False, 'examines': False, 'traditions': False, 'hating': False, 'zena': False, 'tired': False, 'adelaide': False, 'kale': False, 'phifer': False, 'golberg': False, 'camouflaged': False, '$@^@': False, 'bleibtreu': False, 'appeased': False, 'entomologist': False, 'recovers': False, 'biz': False, 'gang': False, 'depressing': False, 'broeck': False, 'ussr': False, 'textures': False, 'imaginatively': False, 'schools': False, 'unearned': False, 'revitalize': False, 'funded': False, 'incarceration': False, 'mindel': False, 'symbolises': False, 'newsreporter': False, 'eviction': False, 'downward': False, 'thriller': False, 'larious': False, 'parodizing': False, 'pharmaceuticals': False, 'wondrous': False, 'unfathomable': False, 'calmer': False, 'amplify': False, 'doomsaying': False, 'courting': False, 'tyrone': False, 'bravely': False, 'rediscovers': False, 'affirmations': False, 'mug': False, 'trashing': False, 'disassociates': False, 'snatches': False, 'druggie': False, '17th': False, 'expositions': False, 'viewed': False, 'histories': False, 'atkins': False, 'detail': False, 'paying': False, 'coherent': False, 'brinkley': False, 'timed': False, 'overrun': False, 'resemblances': False, 'fox': False, 'posed': False, 'teenager': False, 'cleanup': False, 'premeditated': False, 'realisation': False, 'iscove': False, 'creativity': False, 'impulsively': False, 'sector': False, 'lunkheads': False, 'anna': False, 'logan': False, 'storh': False, 'characted': False, 'raider': False, 'relied': False, 'flubber': False, 'matrix': False, 'instigate': False, 'breakout': False, 'fulfils': False, 'confessor': False, 'architectural': False, 'vigilante': False, 'oneida': False, 'firefighter': False, 'gailard': False, 'reliable': False, 'e9': False, 'deapens': False, 'colleges': False, 'congenial': False, 'tarp': False, 'royer': False, 'yellow': False, 'broach': False, 'dispair': False, 'awful': False, 'swarm': False, 'salvadorian': False, 'weinstein': False, 'anthony': False, 'crashing': False, 'because': True, '007': False, 'bullet': False, 'carrot': False, 'millenium': False, 'grips': False, 'sugary': False, 'guernica': False, 'leyland': False, 'balls': False, 'cassidy': False, 'whitechapel': False, 'fleshed': False, 'supercode': False, 'thru': False, 'sergeants': False, 'vaccinated': False, 'scenic': False, 'owe': False, 'rounds': False, 'shrek': False, 'saunters': False, 'majorly': False, 'panhood': False, 'gatsby': False, 'manual': False, 'telekinetic': False, 'misguided': False, 'comply': False, 'numeral': False, 'nicknamed': False, 'declining': False, 'overpraising': False, 'jojo': False, 'artistical': False, 'crackin': False, 'basketball': False, 'pair': False, 'imitate': False, 'deuce': False, 'upholding': False, 'prompting': False, 'savings': False, 'migraines': False, 'gargantuan': False, 'filimg': False, 'kesher': False, 'hermetic': False, 'ritchie': False, 'doped': False, 'palpatine': False, 'defended': False, 'scorecard': False, 'mconaughy': False, 'politicians': False, 'exquisitely': False, 'fugitive': False, 'relief': False, 'flounder': False, 'seminude': False, 'heartstopping': False, 'gritted': False, 'fascists': False, 'matthau': False, 'upbeats': False, 'doens': False, 'kung': False, 'freshen': False, 'ernst': False, 'flamenco': False, 'snapshot': False, 'knits': False, 'uhh': False, 'precipices': False, 'solitary': False, 'kirshner': False, 'defying': False, 'mccartney': False, 'embodiment': False, 'shocker': False, 'handlers': False, 'repeatedly': False, 'corners': False, 'victimizer': False, 'parcel': False, 'attorney': False, 'thorne': False, 'fretful': False, 'backwards': False, 'retired': False, 'unsuccessful': False, 'burial': False, 'these': True, 'warmed': False, 'cranks': False, 'sadist': False, 'costumes': False, 'eye_': False, 'complacent': False, 'crawford': False, 'leg': False, 'bernt': False, 'sour': False, 'artagnan': False, 'overexplain': False, 'voracious': False, 'underplay': False, 'participants': False, 'greenwich': False, 'populace': False, 'perspective': False, 'jeckle': False, 'flood': False, 'johto': False, 'yuor': False, 'uplifiting': False, 'facility': False, 'eel': False, 'apricots': False, 'what': True, 'risking': False, '3000': False, 'dorian': False, 'wry': False, 'grubby': False, 'vehicular': False, 'correspondant': False, 'electrifying': False, 'underdrawn': False, 'oooh': False, 'sorderbergh': False, 'surfing': False, 'cassette': False, 'reminders': False, 'incessantly': False, 'unorthodox': False, 'itself': False, 'mews': False, 'coulmier': False, 'madisons': False, 'garnish': False, 'currently': False, 'demands': False, 'resurfaces': False, 'yellowstone': False, 'gunshot': False, 's_big_score': False, 'moonlit': False, 'serpents': False, 'roma': False, 'gears': False, 'scalper': False, 'revell': False, 'debased': False, 'boing': False, 'conglomerate': False, 'blurts': False, 'ordeals': False, 'businesslike': False, 'requirements': False, 'shuts': False, 'bohemian': False, 'slump': False, 'translates': False, 'world': True, 'horndogs': False, 'somewhat': False, 'french': False, 'potholes': False, 'sandrine': False, 'canyon': False, 'godsend': False, 'fairness': False, 'gotti': False, 'feasibility': False, 'silberg': False, 'wonderful': False, 'fistfights': False, 'boot': False, 'lara': False, 'overdosing': False, 'virgin': False, 'lit': False, 'seague': False, 'delved': False, 'frankiln': False, 'rival': False, 'unlikeable': False, 'ellen': False, 'comedian': False, 'marriage': False, 'raved': False, 'eyeballs': False, 'caprio': False, 'yeller': False, 'ivins': False, 'coworker': False, 'scientists': False, 'markedly': False, 'overseer': False, 'plumets': False, 'newark': False, 'scandal': False, '117': False, 'tostitos': False, 'bragg': False, 'fflewdurr': False, 'stalked': False, 'house_': False, 'wizardry': False, 'pant': False, 'docu': False, 'council': False, 'stoltz': False, 'penchent': False, 'outlawed': False, 'flea': False, 'seing': False, 'emphasizes': False, 'virus': False, 'punxsutawney': False, 'katherine': False, 'punctuate': False, 'taped': False, 'manipulated': False, 'squealing': False, 'peels': False, 'constitutes': False, 'manh': False, 'handyman': False, 'extraneous': False, 'acquired': False, 'uproar': False, 'influences': False, 'eamonn': False, 'banalities': False, 'assedness': False, 'obserable': False, 'noses': False, 'caraboo': False, 'detailing': False, 'aleck': False, 'desired': False, 'runyan': False, 'beefy': False, 'amen': False, 'typicalness': False, 'ahmet': False, 'lesabre': False, 'assortment': False, 'cabinet': False, 'fascistic': False, 'guilt': False, 'unknowing': False, 'digs': False, 'homework': False, 'zany': False, 'blissful': False, 'undertaking': False, 'friendliness': False, 'nut': False, 'wyatt': False, 'indentity': False, 'unrelentless': False, 'crosby': False, 'attend': False, 'ito': False, 'speculated': False, 'reynaud': False, 'province': False, 'backslidden': False, 'brainers': False, 'spunk': False, 'recaptured': False, 'taymor': False, 'stowed': False, 'mccourt': False, 'attains': False, 'heretic': False, 'brit': False, 'foreseen': False, 'macivor': False, 'lagravenese': False, 'marooned': False, 'privileges': False, 'moloney': False, 'strasberg': False, 'unflashy': False, 'dachshund': False, 'predominately': False, 'rejuvenates': False, 'flushes': False, '2470': False, 'dismemberments': False, 'bulimia': False, 'sidesteps': False, 'edel': False, 'zuehlke': False, 'expo': False, 'vanquish': False, 'beelzebub': False, 'heroin': False, 'techniques': False, 'respectably': False, 'subjecting': False, 'typically': False, 'disappear': False, 'braddock': False, 'pm': False, 'redneck': False, 'copout': False, 'cassie': False, 'blindsided': False, 'leiter': False, 'reformers': False, 'judiciary': False, 'paralyzingly': False, 'third': False, 'talking': False, 'ooky': False, '37th': False, 'emerged': False, 'toosie': False, 'bribed': False, 'incongruously': False, 'ceaselessly': False, 'rackwitz': False, 'offenders': False, 'meddling': False, 'coals': False, 'sensuality': False, 'bushido': False, 'harassed': False, 'crash': False, 'thermia': False, 'chapped': False, 'hmmmm': False, 'commentators': False, 'everclear': False, 'feely': False, 'synonyms': False, '101': False, 'ideologies': False, 'auctioneer': False, 'beliavable': False, 'folding': False, 'disracting': False, 'crawl': False, 'suspiciously': False, 'shaft': False, 'psychotics': False, 'bijou': False, 'voltage': False, 'monastery': False, 'delinquents': False, 'masters': False, 'ticked': False, 'hiberli': False, 'cindy': False, 'erich': False, 'survive': False, 'rock': False, 'lesley': False, 'encouraging': False, 'operated': False, 'roping': False, 'naseeruddin': False, 'predestined': False, 'twain': False, 'osbourne': False, 'dialog': False, 'fractured': False, 'molinaro': False, 'earthward': False, 'after': True, 'jeebies': False, 'heiress': False, 'dislikes': False, 'chuckles': False, 'nobility': False, 'replicants': False, 'hips': False, 'dithering': False, 'aronofsky': False, 'channeling': False, 'vacances': False, 'lochlyn': False, 'ethnocentric': False, 'morgan': False, 'goldstein': False, 'budgets': False, 'mysteries': False, 'collectors': False, 'indoctrinated': False, 'recoiling': False, 'executing': False, 'meadows': False, 'boneheaded': False, 'trembling': False, 'ecl': False, 'anorexic': False, 'cropped': False, 'competitive': False, 'powering': False, 'shiftlessness': False, 'pacify': False, 'eckstrom': False, 'nitpickers': False, 'llewelyn': False, 'bitterness': False, 'duffel': False, 'indistinguishable': False, 'shrine': False, 'hurriedly': False, 'fistfight': False, 'mailman': False, '?': True, 'hanged': False, 'armstrong': False, 'engross': False, 'marveled': False, 'cancerogenic': False, 'ethos': False, 'pegged': False, 'incriminates': False, 'cards': False, 'sweathog': False, 'categorization': False, 'exploring': False, 'sharon': False, 'realistic': False, 'gussies': False, 'arabs': False, 'inversion': False, 'metered': False, 'simply': True, 'venkman': False, 'tete': False, '_full_house_': False, 'cates': False, 'eclipse': False, 'reknowned': False, 'langenkamp': False, 'hitters': False, 'damian': False, 'yikes': False, 'travelogue': False, 'riding': False, 'pro': False, 'sketched': False, 'rollerblading': False, 'charmer': False, 'monetary': False, 'collaborator': False, 'patrons': False, 'apparatuses': False, 'regent': False, 'innovatively': False, 'phallic': False, 'eggert': False, 'steal': False, 'leeanne': False, 'withstand': False, 'istvan': False, 'raucously': False, 'wayyyy': False, 'inferring': False, 'verbatim': False, 'eroding': False, 'exasperated': False, '1998s': False, 'titty': False, 'cleansed': False, 'alibi': False, 'reappeared': False, 'clips': False, 'squid': False, 'thrives': False, 'caberat': False, 'scooped': False, 'holism': False, 'sewing': False, 'bargaining': False, 'leeway': False, 'militarism': False, 'perpetuates': False, 'loup': False, 'savor': False, 'chiming': False, 'chortling': False, 'sonar': False, 'forlani': False, 'cucumber': False, 'persuades': False, 'idisyncratic': False, 'constitutionality': False, 'unworkable': False, 'personas': False, 'gamesmanship': False, 'intermediary': False, 'duveyrier': False, 'levels': False, 'snooze': False, 'avrech': False, 'wooed': False, 'disgustingness': False, 'rang': False, 'waterlogged': False, 'flashlight': False, 'specialised': False, 'purists': False, 'racy': False, 'zardoz': False, 'nay': False, 'joadson': False, 'mikey': False, 'inconsiderable': False, 'agricultural': False, 'violets': False, 'grunt': False, 'petitioned': False, 'pansies': False, 'assembling': False, 'preferring': False, 'exact': True, 'buff': False, 'hater': False, 'indien': False, 'tyrany': False, 'crump': False, 'frat': False, 'midgett': False, 'targeting': False, 'burnout': False, 'etiquette': False, 'teenth': False, 'yuk': False, 'neglected': False, 'seeping': False, 'ancy': False, 'remembered': False, 'quibble': False, 'emshwiller': False, 'reloading': False, 'annoyingly': False, 'devastation': False, 'hobel': False, 'colliding': False, 'saracastic': False, 'dished': False, 'rhys': False, 'earthquakes': False, 'invite': False, 'genitalia': False, 'iris': False, 'cruder': False, 'foolery': False, 'befouled': False, 'curiosity': False, 'materialized': False, 'exoticism': False, 'astonishment': False, 'talon': False, 'hucksters': False, 'backstabbers': False, 'baking': False, 'sobocinski': False, 'junger': False, 'syllable': False, 'brosh': False, 'axiomatic': False, 'inputs': False, 'commited': False, 'laces': False, 'enhancer': False, 'mccamus': False, 'hip': False, '26min': False, 'dismisses': False, 'ranchers': False, 'magnificient': False, 'gees': False, 'masquerading': False, 'breckman': False, 'schizopolis': False, 'cicely': False, 'innumerable': False, 'nuttgens': False, 'california': False, 'completes': False, 'liveliness': False, 'brizzi': False, '90': False, 'dunsworth': False, 'throne': False, 'yes': False, 'yuji': False, 'packard': False, 'filmcritic': False, 'proval': False, 'shalit': False, 'provider': False, 'goldsman': False, 'fearsomely': False, 'custodians': False, 'sizable': False, 'improper': False, 'mat': False, 'yuppy': False, 'drunkenly': False, 'rural': False, 'scalding': False, 'batallion': False, 'ref': False}\n"
     ]
    }
   ],
   "source": [
    "print((find_features(movie_reviews.words('neg/cv000_29416.txt'))))\n",
    "featuresets = [(find_features(rev), category) for (rev, category) in documents]"
   ]
  },
  {
   "cell_type": "code",
   "execution_count": 27,
   "metadata": {
    "collapsed": true
   },
   "outputs": [],
   "source": [
    "training_set = featuresets[:1900]\n",
    "test_set = featuresets[1900:]"
   ]
  },
  {
   "cell_type": "code",
   "execution_count": 35,
   "metadata": {
    "collapsed": false
   },
   "outputs": [
    {
     "name": "stdout",
     "output_type": "stream",
     "text": [
      "Naive Bayes classifier accuracy:  78.0\n",
      "Most Informative Features\n",
      "                    3000 = True              neg : pos    =     10.2 : 1.0\n",
      "                    sans = True              neg : pos    =      8.9 : 1.0\n",
      "              simplicity = True              pos : neg    =      8.4 : 1.0\n",
      "                fairness = True              neg : pos    =      8.2 : 1.0\n",
      "              weaknesses = True              pos : neg    =      7.7 : 1.0\n",
      "              annoyingly = True              neg : pos    =      6.3 : 1.0\n",
      "                 abysmal = True              neg : pos    =      6.3 : 1.0\n",
      "                   sweat = True              neg : pos    =      6.3 : 1.0\n",
      "                  elmore = True              pos : neg    =      5.7 : 1.0\n",
      "                heritage = True              pos : neg    =      5.7 : 1.0\n"
     ]
    }
   ],
   "source": [
    "classifier = nltk.NaiveBayesClassifier.train(training_set)\n",
    "print(\"Naive Bayes classifier accuracy: \", (nltk.classify.accuracy(classifier,test_set)*100))\n",
    "classifier.show_most_informative_features(10)"
   ]
  },
  {
   "cell_type": "code",
   "execution_count": 42,
   "metadata": {
    "collapsed": false
   },
   "outputs": [
    {
     "name": "stdout",
     "output_type": "stream",
     "text": [
      "Sklearn Naive Bayes classifier accuracy:  78.0\n"
     ]
    }
   ],
   "source": [
    "from nltk.classify.scikitlearn import SklearnClassifier # its just a wrapper and this will make all the classifiers available\n",
    "from sklearn.naive_bayes import MultinomialNB, GaussianNB, BernoulliNB\n",
    "MNB_classifier = SklearnClassifier(MultinomialNB())\n",
    "MNB_classifier.train(training_set)\n",
    "print(\"Sklearn Naive Bayes classifier accuracy: \", (nltk.classify.accuracy(classifier,test_set)*100))"
   ]
  },
  {
   "cell_type": "code",
   "execution_count": 45,
   "metadata": {
    "collapsed": false
   },
   "outputs": [
    {
     "name": "stdout",
     "output_type": "stream",
     "text": [
      "Sklearn Naive Bayes classifier accuracy:  78.0\n"
     ]
    }
   ],
   "source": [
    "from sklearn.linear_model import LogisticRegression, SGDClassifier\n",
    "from sklearn.svm import SVC, LinearSVC, NuSVC\n",
    "SVC_classifier = SklearnClassifier(SVC())\n",
    "SVC_classifier.train(training_set)\n",
    "print(\"Sklearn Naive Bayes classifier accuracy: \", (nltk.classify.accuracy(classifier,test_set)*100))"
   ]
  },
  {
   "cell_type": "code",
   "execution_count": 25,
   "metadata": {
    "collapsed": false
   },
   "outputs": [],
   "source": [
    "from nltk import NaiveBayesClassifier as NBC\n",
    "training_corpus = [\n",
    "                   ('I am exhausted of this work.', 'Class_B'),\n",
    "                   (\"I can't cooperate with this\", 'Class_B'),\n",
    "                   ('He is my badest enemy!', 'Class_B'),\n",
    "                   ('My management is poor.', 'Class_B'),\n",
    "                   ('I love this burger.', 'Class_A'),\n",
    "                   ('This is an brilliant place!', 'Class_A'),\n",
    "                   ('I feel very good about these dates.', 'Class_A'),\n",
    "                   ('This is my best work.', 'Class_A'),\n",
    "                   (\"What an awesome view\", 'Class_A'),\n",
    "                   ('I do not like this dish', 'Class_B')]\n",
    "test_corpus = [\n",
    "                (\"I am not feeling well today.\", 'Class_B'), \n",
    "                (\"I feel brilliant!\", 'Class_A'), \n",
    "                ('Gary is a friend of mine.', 'Class_A'), \n",
    "                (\"I can't believe I'm doing this.\", 'Class_B'), \n",
    "                ('The date was good.', 'Class_A'), ('I do not enjoy my job', 'Class_B')]"
   ]
  },
  {
   "cell_type": "code",
   "execution_count": null,
   "metadata": {
    "collapsed": false
   },
   "outputs": [],
   "source": []
  },
  {
   "cell_type": "code",
   "execution_count": null,
   "metadata": {
    "collapsed": true
   },
   "outputs": [],
   "source": []
  }
 ],
 "metadata": {
  "anaconda-cloud": {},
  "kernelspec": {
   "display_name": "Python [conda root]",
   "language": "python",
   "name": "conda-root-py"
  },
  "language_info": {
   "codemirror_mode": {
    "name": "ipython",
    "version": 3
   },
   "file_extension": ".py",
   "mimetype": "text/x-python",
   "name": "python",
   "nbconvert_exporter": "python",
   "pygments_lexer": "ipython3",
   "version": "3.5.2"
  }
 },
 "nbformat": 4,
 "nbformat_minor": 1
}
